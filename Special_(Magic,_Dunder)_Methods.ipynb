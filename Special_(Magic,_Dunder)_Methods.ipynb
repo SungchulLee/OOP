{
 "cells": [
  {
   "cell_type": "markdown",
   "metadata": {},
   "source": [
    "# Special (Magic/Dunder) Methods"
   ]
  },
  {
   "cell_type": "markdown",
   "metadata": {},
   "source": [
    "[Special (Magic/Dunder) Methods by Corey Schafer](https://www.youtube.com/watch?v=3ohzBxoFHAY&list=PL-osiE80TeTsqhIuOqKhwlXsIBIdSeYtc&index=5)"
   ]
  },
  {
   "cell_type": "markdown",
   "metadata": {},
   "source": [
    "<a href=\"#dunder-repr-and-dunder-str\">dunder repr and dunder str</a>\n",
    "\n",
    "<a href=\"#dunder-add\">dunder add</a>\n",
    "\n",
    "<a href=\"#dunder-len\">dunder len</a>"
   ]
  },
  {
   "cell_type": "markdown",
   "metadata": {},
   "source": [
    "##### special method name lists - https://docs.python.org/3/reference/datamodel.html#special-method-names"
   ]
  },
  {
   "cell_type": "code",
   "execution_count": 18,
   "metadata": {},
   "outputs": [],
   "source": [
    "class Employee:\n",
    "\n",
    "    # dunder init \n",
    "    def __init__(self, first, last, email, pay):\n",
    "        self.first = first\n",
    "        self.last = last\n",
    "        self.email = email\n",
    "        self.pay = pay\n",
    "\n",
    "    def fullname(self):\n",
    "        return '{} {}'.format(self.first, self.last)\n",
    "\n",
    "    # dunder repr for developer\n",
    "    def __repr__(self):\n",
    "        return \"Employee('{}', '{}', '{}', {})\".format(self.first, self.last, self.email, self.pay)\n",
    "\n",
    "    # dunder str for end_user\n",
    "    def __str__(self):\n",
    "        return '{} - {}'.format(self.fullname(), self.email)\n",
    "\n",
    "    # dunder add\n",
    "    def __add__(self, other):\n",
    "        return self.pay + other.pay\n",
    "\n",
    "    # dunder  len\n",
    "    def __len__(self):\n",
    "        return len(self.fullname())"
   ]
  },
  {
   "cell_type": "code",
   "execution_count": 19,
   "metadata": {},
   "outputs": [],
   "source": [
    "emp_1 = Employee('Sungchul', 'Lee', 'sungchul@yonsei.ac.kr', 150000)\n",
    "emp_2 = Employee('Sookkyung', 'Kim', 'sook@gmail.com', 250000)\n",
    "emp_3 = Employee('Junhyung', 'Lee', 'jun_lee@gmail.com', 100000)"
   ]
  },
  {
   "cell_type": "code",
   "execution_count": 32,
   "metadata": {},
   "outputs": [
    {
     "name": "stdout",
     "output_type": "stream",
     "text": [
      "2\n",
      "11\n",
      "400000\n",
      "\n",
      "2\n",
      "2\n",
      "11\n",
      "11\n",
      "400000\n",
      "400000\n"
     ]
    }
   ],
   "source": [
    "print(1 + 1)\n",
    "print('1' + '1')\n",
    "print(emp_1 + emp_2)\n",
    "print()\n",
    "\n",
    "print((1).__add__(1))\n",
    "print(int.__add__(1, 1))\n",
    "print(\"1\".__add__(\"1\"))\n",
    "print(str.__add__(\"1\", \"1\"))\n",
    "print(emp_1.__add__(emp_2))\n",
    "print(Employee.__add__(emp_1, emp_2))"
   ]
  },
  {
   "cell_type": "code",
   "execution_count": 35,
   "metadata": {},
   "outputs": [
    {
     "name": "stdout",
     "output_type": "stream",
     "text": [
      "3\n",
      "12\n",
      "12\n",
      "\n",
      "3\n",
      "3\n",
      "12\n",
      "12\n",
      "12\n",
      "12\n"
     ]
    }
   ],
   "source": [
    "print(len([1,2,3]))\n",
    "print(len('Sungchul Lee'))\n",
    "print(len(emp_1))\n",
    "print()\n",
    "\n",
    "print([1,2,3].__len__())\n",
    "print(list.__len__([1,2,3]))\n",
    "print('Sungchul Lee'.__len__())\n",
    "print(str.__len__('Sungchul Lee'))\n",
    "print(emp_1.__len__())\n",
    "print(Employee.__len__(emp_1))"
   ]
  },
  {
   "cell_type": "markdown",
   "metadata": {},
   "source": [
    "# dunder repr and dunder str"
   ]
  },
  {
   "cell_type": "markdown",
   "metadata": {},
   "source": [
    "dunder repr ```__repr__```, dunder str ```__str__``` 공히 인스탄스를 설명하는 아웃풋을 던져준다. \n",
    "\n",
    "> dunder repr ```__repr__``` for developer: 아웃풋을 카피해서 클래스 인스턴스를 만들수 있도록 설계하는 것이 보통이다.\n",
    "\n",
    "> dunder str ```__str__``` for end_user: 아웃풋을 엔드유저가 쉽게 이해하도록 설계하는 것이 보통이다."
   ]
  },
  {
   "cell_type": "code",
   "execution_count": 26,
   "metadata": {},
   "outputs": [
    {
     "name": "stdout",
     "output_type": "stream",
     "text": [
      "Employee('Sungchul', 'Lee', 'sungchul@yonsei.ac.kr', 150000)\n",
      "Employee('Sungchul', 'Lee', 'sungchul@yonsei.ac.kr', 150000)\n",
      "Employee('Sungchul', 'Lee', 'sungchul@yonsei.ac.kr', 150000)\n"
     ]
    }
   ],
   "source": [
    "print(repr(emp_1))\n",
    "print(emp_1.__repr__())\n",
    "print(Employee.__repr__(emp_1))"
   ]
  },
  {
   "cell_type": "code",
   "execution_count": 23,
   "metadata": {},
   "outputs": [
    {
     "name": "stdout",
     "output_type": "stream",
     "text": [
      "sungchul@yonsei.ac.kr\n"
     ]
    }
   ],
   "source": [
    "emp_1 = Employee('Sungchul', 'Lee', 'sungchul@yonsei.ac.kr', 150000)\n",
    "print(emp_1.email)"
   ]
  },
  {
   "cell_type": "code",
   "execution_count": 25,
   "metadata": {},
   "outputs": [
    {
     "name": "stdout",
     "output_type": "stream",
     "text": [
      "Sungchul Lee - sungchul@yonsei.ac.kr\n",
      "Sungchul Lee - sungchul@yonsei.ac.kr\n",
      "Sungchul Lee - sungchul@yonsei.ac.kr\n"
     ]
    }
   ],
   "source": [
    "print(str(emp_1))\n",
    "print(emp_1.__str__())\n",
    "print(Employee.__str__(emp_1))"
   ]
  },
  {
   "cell_type": "markdown",
   "metadata": {},
   "source": [
    "[<a href=\"#Special-(Magic/Dunder)-Methods \">Back to top</a>]"
   ]
  },
  {
   "cell_type": "markdown",
   "metadata": {},
   "source": [
    "# dunder add"
   ]
  },
  {
   "cell_type": "markdown",
   "metadata": {},
   "source": [
    "addition works differently depending on class.\n",
    "\n",
    "> addition for int: 보통의 숫자 더하기\n",
    "\n",
    "> addition for str: string concatenation\n",
    "\n",
    "> addition defined by dunder add ```__add__``` for class: 클래스의 특성에 맞도록 설계할 수 있다."
   ]
  },
  {
   "cell_type": "code",
   "execution_count": 9,
   "metadata": {},
   "outputs": [
    {
     "data": {
      "text/plain": [
       "3"
      ]
     },
     "execution_count": 9,
     "metadata": {},
     "output_type": "execute_result"
    }
   ],
   "source": [
    "1 + 2"
   ]
  },
  {
   "cell_type": "code",
   "execution_count": 10,
   "metadata": {},
   "outputs": [
    {
     "data": {
      "text/plain": [
       "'Corey Schafer'"
      ]
     },
     "execution_count": 10,
     "metadata": {},
     "output_type": "execute_result"
    }
   ],
   "source": [
    "'Corey ' + 'Schafer'"
   ]
  },
  {
   "cell_type": "code",
   "execution_count": 11,
   "metadata": {},
   "outputs": [
    {
     "data": {
      "text/plain": [
       "3"
      ]
     },
     "execution_count": 11,
     "metadata": {},
     "output_type": "execute_result"
    }
   ],
   "source": [
    "int.__add__(1, 2)"
   ]
  },
  {
   "cell_type": "code",
   "execution_count": 12,
   "metadata": {},
   "outputs": [
    {
     "data": {
      "text/plain": [
       "'Corey Schafer'"
      ]
     },
     "execution_count": 12,
     "metadata": {},
     "output_type": "execute_result"
    }
   ],
   "source": [
    "str.__add__('Corey ', 'Schafer')"
   ]
  },
  {
   "cell_type": "code",
   "execution_count": 13,
   "metadata": {},
   "outputs": [
    {
     "data": {
      "text/plain": [
       "110000"
      ]
     },
     "execution_count": 13,
     "metadata": {},
     "output_type": "execute_result"
    }
   ],
   "source": [
    "emp_1 + emp_2"
   ]
  },
  {
   "cell_type": "code",
   "execution_count": 14,
   "metadata": {},
   "outputs": [
    {
     "data": {
      "text/plain": [
       "110000"
      ]
     },
     "execution_count": 14,
     "metadata": {},
     "output_type": "execute_result"
    }
   ],
   "source": [
    "Employee.__add__(emp_1, emp_2)"
   ]
  },
  {
   "cell_type": "markdown",
   "metadata": {},
   "source": [
    "[<a href=\"#Special-(Magic/Dunder)-Methods \">Back to top</a>]"
   ]
  },
  {
   "cell_type": "markdown",
   "metadata": {},
   "source": [
    "# dunder len"
   ]
  },
  {
   "cell_type": "markdown",
   "metadata": {},
   "source": [
    "len works differently depending on class.\n",
    "\n",
    "> addition for list: 리스트에 있는 물건의 개수\n",
    "\n",
    "> addition for str: 스트링에 있는 알파벳 개수\n",
    "\n",
    "> len defined by dunder len ```__len__``` for class: 클래스의 특성에 맞도록 설계할 수 있다."
   ]
  },
  {
   "cell_type": "code",
   "execution_count": 15,
   "metadata": {},
   "outputs": [
    {
     "data": {
      "text/plain": [
       "2"
      ]
     },
     "execution_count": 15,
     "metadata": {},
     "output_type": "execute_result"
    }
   ],
   "source": [
    "len([1, 'Hi'])"
   ]
  },
  {
   "cell_type": "code",
   "execution_count": 16,
   "metadata": {},
   "outputs": [
    {
     "data": {
      "text/plain": [
       "2"
      ]
     },
     "execution_count": 16,
     "metadata": {},
     "output_type": "execute_result"
    }
   ],
   "source": [
    "[1, 'Hi'].__len__()"
   ]
  },
  {
   "cell_type": "code",
   "execution_count": 17,
   "metadata": {},
   "outputs": [
    {
     "data": {
      "text/plain": [
       "2"
      ]
     },
     "execution_count": 17,
     "metadata": {},
     "output_type": "execute_result"
    }
   ],
   "source": [
    "list.__len__([1, 'Hi'])"
   ]
  },
  {
   "cell_type": "code",
   "execution_count": 18,
   "metadata": {},
   "outputs": [
    {
     "data": {
      "text/plain": [
       "4"
      ]
     },
     "execution_count": 18,
     "metadata": {},
     "output_type": "execute_result"
    }
   ],
   "source": [
    "len('test')"
   ]
  },
  {
   "cell_type": "code",
   "execution_count": 19,
   "metadata": {},
   "outputs": [
    {
     "data": {
      "text/plain": [
       "4"
      ]
     },
     "execution_count": 19,
     "metadata": {},
     "output_type": "execute_result"
    }
   ],
   "source": [
    "'test'.__len__()"
   ]
  },
  {
   "cell_type": "code",
   "execution_count": 20,
   "metadata": {},
   "outputs": [
    {
     "data": {
      "text/plain": [
       "4"
      ]
     },
     "execution_count": 20,
     "metadata": {},
     "output_type": "execute_result"
    }
   ],
   "source": [
    "str.__len__('test')"
   ]
  },
  {
   "cell_type": "code",
   "execution_count": 21,
   "metadata": {},
   "outputs": [
    {
     "data": {
      "text/plain": [
       "13"
      ]
     },
     "execution_count": 21,
     "metadata": {},
     "output_type": "execute_result"
    }
   ],
   "source": [
    "len(emp_1)"
   ]
  },
  {
   "cell_type": "code",
   "execution_count": 22,
   "metadata": {},
   "outputs": [
    {
     "data": {
      "text/plain": [
       "13"
      ]
     },
     "execution_count": 22,
     "metadata": {},
     "output_type": "execute_result"
    }
   ],
   "source": [
    "emp_1.__len__()"
   ]
  },
  {
   "cell_type": "code",
   "execution_count": 23,
   "metadata": {},
   "outputs": [
    {
     "data": {
      "text/plain": [
       "13"
      ]
     },
     "execution_count": 23,
     "metadata": {},
     "output_type": "execute_result"
    }
   ],
   "source": [
    "Employee.__len__(emp_1)"
   ]
  },
  {
   "cell_type": "markdown",
   "metadata": {},
   "source": [
    "[<a href=\"#Special-(Magic/Dunder)-Methods \">Back to top</a>]"
   ]
  }
 ],
 "metadata": {
  "kernelspec": {
   "display_name": "Python [default]",
   "language": "python",
   "name": "python3"
  },
  "language_info": {
   "codemirror_mode": {
    "name": "ipython",
    "version": 3
   },
   "file_extension": ".py",
   "mimetype": "text/x-python",
   "name": "python",
   "nbconvert_exporter": "python",
   "pygments_lexer": "ipython3",
   "version": "3.5.0"
  }
 },
 "nbformat": 4,
 "nbformat_minor": 2
}
