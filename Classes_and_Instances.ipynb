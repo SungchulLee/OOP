{
 "cells": [
  {
   "cell_type": "markdown",
   "metadata": {},
   "source": [
    "# Classes and Instances "
   ]
  },
  {
   "cell_type": "markdown",
   "metadata": {},
   "source": [
    "Classes and Instances by Corey Schafer [youtube](https://www.youtube.com/watch?v=ZDa-Z5JzLYM&list=PL-osiE80TeTsqhIuOqKhwlXsIBIdSeYtc) \n",
    "\n",
    "Classes and Objects with Python - Part 1 (Python Tutorial #9) by CS Dojo [youtube](https://www.youtube.com/watch?v=wfcWRAxRVBA&index=9&list=PLBZBJbE_rGRWeh5mIBhD-hhDwSEDxogDg) [code](https://www.csdojo.io/python9)\n",
    "\n",
    "Classes and Objects with Python - Part 2 (Python Tutorial #10) by CS Dojo [youtube](https://www.youtube.com/watch?v=WOwi0h_-dfA&index=10&list=PLBZBJbE_rGRWeh5mIBhD-hhDwSEDxogDg) [code](https://www.csdojo.io/python10)\n",
    "\n",
    "Introduction to Classes and Objects - Part 1 (Data Structures & Algorithms #3) by CS Dojo [youtube](https://www.youtube.com/watch?v=8yjkWGRlUmY)"
   ]
  },
  {
   "cell_type": "markdown",
   "metadata": {},
   "source": [
    "<a href=\"#멍청하게-클래스-사용하기\">멍청하게 클래스 사용하기</a>\n",
    "\n",
    "<a href=\"#스마트하게-클래스-사용하기\">스마트하게 클래스 사용하기</a>\n",
    "\n",
    "<a href=\"#메쏘드와-어트리뷰트\">메쏘드와 어트리뷰트</a>\n",
    "\n",
    "<a href=\"#클래스를-만들때-self를-빼면-안되요\">클래스를 만들때 self를 빼면 안되요</a>\n",
    "\n",
    "<a href=\"#클래스를-만들때-self를-빼면-안되는-이유\">클래스를 만들때 self를 빼면 안되는 이유</a>\n",
    "\n",
    "<a href=\"#객체와-인스턴스의-차이\">객체와 인스턴스의 차이</a>"
   ]
  },
  {
   "cell_type": "markdown",
   "metadata": {},
   "source": [
    "<img src=\"https://docs.sencha.com/extjs/6.2.0/guides/other_resources/images/classes_instances.png\"/>"
   ]
  },
  {
   "cell_type": "markdown",
   "metadata": {},
   "source": [
    "> 클래스: 인스턴스를 만드는 블루프린트\n",
    "    \n",
    "> 인스턴스: 클래스라는 블루프린트를 따라 만들어낸 객체 \n",
    "\n",
    "> 어트리뷰트: 인스턴스 변수. By the way, I use the word attribute for any name following a dot — for example, in the expression ```z.real```, ```real``` is an attribute of the object ```z```. https://docs.python.org/2/tutorial/classes.html\n",
    "\n",
    "> 메쏘드: 인스턴스들에 특화된 함수."
   ]
  },
  {
   "cell_type": "markdown",
   "metadata": {
    "collapsed": true
   },
   "source": [
    "# 멍청하게 클래스 사용하기"
   ]
  },
  {
   "cell_type": "markdown",
   "metadata": {},
   "source": [
    "##### 클래스 만들기"
   ]
  },
  {
   "cell_type": "code",
   "execution_count": 1,
   "metadata": {},
   "outputs": [
    {
     "ename": "SyntaxError",
     "evalue": "unexpected EOF while parsing (<ipython-input-1-443b0a7e8f38>, line 3)",
     "output_type": "error",
     "traceback": [
      "\u001b[0;36m  File \u001b[0;32m\"<ipython-input-1-443b0a7e8f38>\"\u001b[0;36m, line \u001b[0;32m3\u001b[0m\n\u001b[0;31m    # SyntaxError: unexpected EOF while parsing\u001b[0m\n\u001b[0m                                               ^\u001b[0m\n\u001b[0;31mSyntaxError\u001b[0m\u001b[0;31m:\u001b[0m unexpected EOF while parsing\n"
     ]
    }
   ],
   "source": [
    "# class Employee:\n",
    "    \n",
    "# SyntaxError: unexpected EOF while parsing"
   ]
  },
  {
   "cell_type": "markdown",
   "metadata": {},
   "source": [
    "위와 같이 클래스를 정의만 하고, 아무 것도 쓰지 않으면 에러가 나와요.\n",
    "임시로 클래스를 엠프티하게 유지하고 싶으면, ```pass```라고 아래와 같이 쓰세요."
   ]
  },
  {
   "cell_type": "code",
   "execution_count": 2,
   "metadata": {},
   "outputs": [],
   "source": [
    "class Employee:\n",
    "    pass"
   ]
  },
  {
   "cell_type": "markdown",
   "metadata": {},
   "source": [
    "##### 인스턴스 만들기"
   ]
  },
  {
   "cell_type": "code",
   "execution_count": 3,
   "metadata": {},
   "outputs": [],
   "source": [
    "emp_1 = Employee()\n",
    "emp_2 = Employee()"
   ]
  },
  {
   "cell_type": "code",
   "execution_count": 4,
   "metadata": {},
   "outputs": [
    {
     "name": "stdout",
     "output_type": "stream",
     "text": [
      "<__main__.Employee object at 0x112f47390>\n",
      "<__main__.Employee object at 0x112f473c8>\n"
     ]
    }
   ],
   "source": [
    "print(emp_1)\n",
    "print(emp_2)"
   ]
  },
  {
   "cell_type": "markdown",
   "metadata": {},
   "source": [
    "위 아웃풋에서 ```0x111fa8eb8```는 메모리 위치를 의미합니다.\n",
    "```__main__.Employee object```인 ```emp_1```가 이 위치에 저장되어 있다는 이야기죠."
   ]
  },
  {
   "cell_type": "markdown",
   "metadata": {},
   "source": [
    "##### 어트리뷰트 수동으로 만들어 사용하기 - 수트핏!!!"
   ]
  },
  {
   "cell_type": "code",
   "execution_count": 5,
   "metadata": {},
   "outputs": [],
   "source": [
    "emp_1.first = 'Sungchul'\n",
    "emp_1.last = 'Lee'\n",
    "emp_1.email = 'sungchul@yonsei.ac.kr'\n",
    "emp_1.pay = 150000\n",
    "\n",
    "emp_2.first = 'Test'\n",
    "emp_2.last = 'User'\n",
    "emp_2.email = 'Test.User@email.com'\n",
    "emp_2.pay = 60000"
   ]
  },
  {
   "cell_type": "code",
   "execution_count": 6,
   "metadata": {},
   "outputs": [
    {
     "name": "stdout",
     "output_type": "stream",
     "text": [
      "sungchul@yonsei.ac.kr\n",
      "Test.User@email.com\n"
     ]
    }
   ],
   "source": [
    "print(emp_1.email)\n",
    "print(emp_2.email)"
   ]
  },
  {
   "cell_type": "markdown",
   "metadata": {},
   "source": [
    "[<a href=\"#Classes-and-Instances\">Back to top</a>]"
   ]
  },
  {
   "cell_type": "markdown",
   "metadata": {},
   "source": [
    "# 스마트하게 클래스 사용하기"
   ]
  },
  {
   "cell_type": "markdown",
   "metadata": {},
   "source": [
    "##### 클래스 만들기\n",
    "\n",
    "인스턴스 만들때 입력되는 정보를 이용, 어트리뷰트를 자동으로 만들도록 클라스를 만들어요."
   ]
  },
  {
   "cell_type": "code",
   "execution_count": 7,
   "metadata": {},
   "outputs": [],
   "source": [
    "# class Employee:\n",
    "#     pass\n",
    "\n",
    "\n",
    "class Employee:\n",
    "\n",
    "    # init method or constructor (initialization)\n",
    "    def __init__(self, first, last, email, pay):\n",
    "        # first = \"Sungchul\"\n",
    "        # last = \"Lee\"\n",
    "        # email = \"sungchul@yonsei.ac.kr\"\n",
    "        # pay = 150000 \n",
    "        \n",
    "        # emp_1.first = 'Sungchul'\n",
    "        self.first = first \n",
    "        \n",
    "        # emp_1.last = 'Lee'\n",
    "        self.last = last\n",
    "        \n",
    "        # emp_1.email = 'sungchul@yonsei.ac.kr'\n",
    "        self.email = email\n",
    "        \n",
    "        # emp_1.pay = 150000\n",
    "        self.pay = pay "
   ]
  },
  {
   "cell_type": "markdown",
   "metadata": {},
   "source": [
    "##### 인스턴스 만들기  \n",
    "\n",
    "인스턴스를 만들때, 인스턴스의 어트리뷰트에 들어갈 정보를 입력하도록 클래스를 만들어요.\n",
    "이 정보를 이용, 어트리뷰트를 만들도록 클래스를 만들죠.\n",
    "자동으로 어트리뷰트가 생성되겠죠."
   ]
  },
  {
   "cell_type": "code",
   "execution_count": 8,
   "metadata": {},
   "outputs": [],
   "source": [
    "# emp_1 = Employee()\n",
    "\n",
    "# emp_1.first = 'Sungchul'\n",
    "# emp_1.last = 'Lee'\n",
    "# emp_1.email = 'sungchul@yonsei.ac.kr'\n",
    "# emp_1.pay = 150000\n",
    "\n",
    "emp_1 = Employee('Sungchul', 'Lee', 'sungchul@yonsei.ac.kr', 150000) # self = emp_1"
   ]
  },
  {
   "cell_type": "markdown",
   "metadata": {},
   "source": [
    "##### 어트리뷰트 (자동으로 만들어) 사용하기"
   ]
  },
  {
   "cell_type": "code",
   "execution_count": 9,
   "metadata": {},
   "outputs": [
    {
     "name": "stdout",
     "output_type": "stream",
     "text": [
      "sungchul@yonsei.ac.kr\n"
     ]
    }
   ],
   "source": [
    "print(emp_1.email)"
   ]
  },
  {
   "cell_type": "markdown",
   "metadata": {},
   "source": [
    "```emp_1.__dict__```을 보면, ```emp_1```의 어트리뷰트가 dictionary로 정리되어 있어요. "
   ]
  },
  {
   "cell_type": "code",
   "execution_count": 10,
   "metadata": {},
   "outputs": [
    {
     "name": "stdout",
     "output_type": "stream",
     "text": [
      "{'last': 'Lee', 'pay': 150000, 'email': 'sungchul@yonsei.ac.kr', 'first': 'Sungchul'}\n"
     ]
    }
   ],
   "source": [
    "print(emp_1.__dict__)"
   ]
  },
  {
   "cell_type": "markdown",
   "metadata": {},
   "source": [
    "##### 메쏘드 사용하기"
   ]
  },
  {
   "cell_type": "code",
   "execution_count": 11,
   "metadata": {},
   "outputs": [
    {
     "name": "stdout",
     "output_type": "stream",
     "text": [
      "Sungchul Lee\n"
     ]
    }
   ],
   "source": [
    "print('{} {}'.format(emp_1.first, emp_1.last))"
   ]
  },
  {
   "cell_type": "code",
   "execution_count": 12,
   "metadata": {},
   "outputs": [],
   "source": [
    "class Employee:\n",
    "\n",
    "    def __init__(self, first, last, email, pay):\n",
    "        self.first = first \n",
    "        self.last = last\n",
    "        self.email = email\n",
    "        self.pay = pay \n",
    "\n",
    "    # method\n",
    "    def fullname(self):\n",
    "        return '{} {}'.format(self.first, self.last)"
   ]
  },
  {
   "cell_type": "code",
   "execution_count": 13,
   "metadata": {},
   "outputs": [
    {
     "name": "stdout",
     "output_type": "stream",
     "text": [
      "sungchul@yonsei.ac.kr\n",
      "Sungchul Lee\n"
     ]
    }
   ],
   "source": [
    "emp_1 = Employee('Sungchul', 'Lee', 'sungchul@yonsei.ac.kr', 150000)\n",
    "print(emp_1.email) # sungchul@yonsei.ac.kr\n",
    "print(emp_1.fullname()) # Sungchul Lee"
   ]
  },
  {
   "cell_type": "markdown",
   "metadata": {},
   "source": [
    "[<a href=\"#Classes-and-Instances\">Back to top</a>]"
   ]
  },
  {
   "cell_type": "markdown",
   "metadata": {},
   "source": [
    "# 메쏘드와 어트리뷰트"
   ]
  },
  {
   "cell_type": "markdown",
   "metadata": {},
   "source": [
    "> 메쏘드: 끝에 괄호가 있어요. 함수니까 아규먼트를 받겠죠. 괄호는 아규먼트를 받는 주머니죠.\n",
    "    \n",
    "```\n",
    "emp_1.fullname()\n",
    "```\n",
    "    \n",
    "> 어트리뷰트: 끝에 괄호가 없어요. 변수니까 아규먼트를 받을 주머니가 없죠. \n",
    "    \n",
    "```\n",
    "emp_1.pay\n",
    "```"
   ]
  },
  {
   "cell_type": "markdown",
   "metadata": {},
   "source": [
    "메쏘드를 작동시켜보죠."
   ]
  },
  {
   "cell_type": "code",
   "execution_count": 14,
   "metadata": {},
   "outputs": [
    {
     "name": "stdout",
     "output_type": "stream",
     "text": [
      "Sungchul Lee\n"
     ]
    }
   ],
   "source": [
    "print(emp_1.fullname())"
   ]
  },
  {
   "cell_type": "markdown",
   "metadata": {},
   "source": [
    "잘 작동하네요."
   ]
  },
  {
   "cell_type": "markdown",
   "metadata": {},
   "source": [
    "괄호를 빼고 작동시켜 볼까요."
   ]
  },
  {
   "cell_type": "code",
   "execution_count": 15,
   "metadata": {},
   "outputs": [
    {
     "name": "stdout",
     "output_type": "stream",
     "text": [
      "<bound method Employee.fullname of <__main__.Employee object at 0x112f57e10>>\n"
     ]
    }
   ],
   "source": [
    "print(emp_1.fullname)"
   ]
  },
  {
   "cell_type": "markdown",
   "metadata": {},
   "source": [
    "이것은 메쏘드가 작동한 것이 아니고, 메쏘드 자체를 프린트한 것이에요.\n",
    "```Employee.fullname```이라는 ```__main__.Employee object```가 ```0x10f735390```에 저장되어 있다는 거에요. "
   ]
  },
  {
   "cell_type": "markdown",
   "metadata": {},
   "source": [
    "[<a href=\"#Classes-and-Instances\">Back to top</a>]"
   ]
  },
  {
   "cell_type": "markdown",
   "metadata": {},
   "source": [
    "# 클래스를 만들때 self를 빼면 안되요"
   ]
  },
  {
   "cell_type": "code",
   "execution_count": 16,
   "metadata": {},
   "outputs": [],
   "source": [
    "class Employee:\n",
    "\n",
    "    def __init__(self, first, last, email, pay):\n",
    "        self.first = first \n",
    "        self.last = last\n",
    "        self.email = email\n",
    "        self.pay = pay \n",
    "\n",
    "    def fullname(): # <--- self를 고의로 뺐어요\n",
    "        return '{} {}'.format(self.first, self.last)"
   ]
  },
  {
   "cell_type": "code",
   "execution_count": 17,
   "metadata": {},
   "outputs": [
    {
     "name": "stdout",
     "output_type": "stream",
     "text": [
      "sungchul@yonsei.ac.kr\n"
     ]
    },
    {
     "ename": "TypeError",
     "evalue": "fullname() takes 0 positional arguments but 1 was given",
     "output_type": "error",
     "traceback": [
      "\u001b[0;31m---------------------------------------------------------------------------\u001b[0m",
      "\u001b[0;31mTypeError\u001b[0m                                 Traceback (most recent call last)",
      "\u001b[0;32m<ipython-input-17-57988a1cda26>\u001b[0m in \u001b[0;36m<module>\u001b[0;34m()\u001b[0m\n\u001b[1;32m      1\u001b[0m \u001b[0memp_1\u001b[0m \u001b[0;34m=\u001b[0m \u001b[0mEmployee\u001b[0m\u001b[0;34m(\u001b[0m\u001b[0;34m'Sungchul'\u001b[0m\u001b[0;34m,\u001b[0m \u001b[0;34m'Lee'\u001b[0m\u001b[0;34m,\u001b[0m \u001b[0;34m'sungchul@yonsei.ac.kr'\u001b[0m\u001b[0;34m,\u001b[0m \u001b[0;36m150000\u001b[0m\u001b[0;34m)\u001b[0m\u001b[0;34m\u001b[0m\u001b[0m\n\u001b[1;32m      2\u001b[0m \u001b[0mprint\u001b[0m\u001b[0;34m(\u001b[0m\u001b[0memp_1\u001b[0m\u001b[0;34m.\u001b[0m\u001b[0memail\u001b[0m\u001b[0;34m)\u001b[0m \u001b[0;31m# sungchul@yonsei.ac.kr\u001b[0m\u001b[0;34m\u001b[0m\u001b[0m\n\u001b[0;32m----> 3\u001b[0;31m \u001b[0mprint\u001b[0m\u001b[0;34m(\u001b[0m\u001b[0memp_1\u001b[0m\u001b[0;34m.\u001b[0m\u001b[0mfullname\u001b[0m\u001b[0;34m(\u001b[0m\u001b[0;34m)\u001b[0m\u001b[0;34m)\u001b[0m \u001b[0;31m# Sungchul Lee\u001b[0m\u001b[0;34m\u001b[0m\u001b[0m\n\u001b[0m",
      "\u001b[0;31mTypeError\u001b[0m: fullname() takes 0 positional arguments but 1 was given"
     ]
    }
   ],
   "source": [
    "emp_1 = Employee('Sungchul', 'Lee', 'sungchul@yonsei.ac.kr', 150000)\n",
    "print(emp_1.email) # sungchul@yonsei.ac.kr\n",
    "\n",
    "# TypeError: fullname() takes 0 positional arguments but 1 was given\n",
    "print(emp_1.fullname())"
   ]
  },
  {
   "cell_type": "code",
   "execution_count": 19,
   "metadata": {},
   "outputs": [],
   "source": [
    "class Employee:\n",
    "\n",
    "    def __init__(self, first, last, email, pay):\n",
    "        self.first = first \n",
    "        self.last = last\n",
    "        self.email = email\n",
    "        self.pay = pay \n",
    "\n",
    "    def fullname(self): \n",
    "        return '{} {}'.format(self.first, self.last)"
   ]
  },
  {
   "cell_type": "code",
   "execution_count": 20,
   "metadata": {},
   "outputs": [
    {
     "name": "stdout",
     "output_type": "stream",
     "text": [
      "sungchul@yonsei.ac.kr\n",
      "Sungchul Lee\n",
      "Sungchul Lee\n"
     ]
    }
   ],
   "source": [
    "emp_1 = Employee('Sungchul', 'Lee', 'sungchul@yonsei.ac.kr', 150000)\n",
    "print(emp_1.email) # sungchul@yonsei.ac.kr\n",
    "print(emp_1.fullname()) # Sungchul Lee\n",
    "print(Employee.fullname(emp_1)) # Sungchul Lee"
   ]
  },
  {
   "cell_type": "markdown",
   "metadata": {},
   "source": [
    "위 에러 메세지를 보면\n",
    "```fullname() takes 0 positional arguments```, 즉 클래스를 정의할 때 ```fullname()```이라는 함수는 포지션널 아규머트를 받지 않도록 만들었어요.\n",
    "그런데\n",
    "```but 1 was given```, 즉 ```emp_1```이 포지션널 아규머트로 ```fullname()```이라는 함수에 들어 왔다는 이야기에요.\n",
    "함수가 아규먼트를 받지 않도록 구성했는데 아규먼트가 들어오니까 난리가 난거죠."
   ]
  },
  {
   "cell_type": "markdown",
   "metadata": {},
   "source": [
    "[<a href=\"#Classes-and-Instances\">Back to top</a>]"
   ]
  },
  {
   "cell_type": "markdown",
   "metadata": {},
   "source": [
    "# 클래스를 만들때 self를 빼면 안되는 이유"
   ]
  },
  {
   "cell_type": "code",
   "execution_count": 28,
   "metadata": {},
   "outputs": [],
   "source": [
    "class Employee:\n",
    "\n",
    "    def __init__(self, first, last, email, pay):\n",
    "        self.first = first \n",
    "        self.last = last\n",
    "        self.email = email\n",
    "        self.pay = pay \n",
    "\n",
    "    def fullname(self): \n",
    "        return '{} {}'.format(self.first, self.last)\n",
    "    \n",
    "    def __add__(self, self2):\n",
    "        return '{} {}'.format(self.first, self2.last) "
   ]
  },
  {
   "cell_type": "code",
   "execution_count": 29,
   "metadata": {},
   "outputs": [
    {
     "name": "stdout",
     "output_type": "stream",
     "text": [
      "sungchul@yonsei.ac.kr\n",
      "Sungchul Lee\n",
      "Sungchul Lee\n",
      "Sungchul Lee\n"
     ]
    }
   ],
   "source": [
    "emp_1 = Employee('Sungchul', 'Lee', 'sungchul@yonsei.ac.kr', 150000)\n",
    "print(emp_1.email) # sungchul@yonsei.ac.kr\n",
    "print(emp_1.fullname()) # Sungchul Lee\n",
    "print(Employee.fullname(emp_1)) # Sungchul Lee\n",
    "print(emp_1 + emp_1) # Sungchul Lee"
   ]
  },
  {
   "cell_type": "code",
   "execution_count": 30,
   "metadata": {},
   "outputs": [
    {
     "name": "stdout",
     "output_type": "stream",
     "text": [
      "sook@gmail.com\n",
      "Sookkyung Kim\n",
      "Sookkyung Kim\n",
      "Sungchul Kim\n"
     ]
    }
   ],
   "source": [
    "emp_2 = Employee('Sookkyung', 'Kim', 'sook@gmail.com', 250000)\n",
    "print(emp_2.email) # sook@gmail.com\n",
    "print(emp_2.fullname()) # Sookkyung Kim\n",
    "print(Employee.fullname(emp_2)) # Sookkyung Kim\n",
    "print(emp_1 + emp_2) # Sungchul Kim"
   ]
  },
  {
   "cell_type": "code",
   "execution_count": 24,
   "metadata": {},
   "outputs": [
    {
     "name": "stdout",
     "output_type": "stream",
     "text": [
      "<class '__main__.Employee'>\n"
     ]
    }
   ],
   "source": [
    "print(type(emp_1))"
   ]
  },
  {
   "cell_type": "code",
   "execution_count": 25,
   "metadata": {},
   "outputs": [
    {
     "name": "stdout",
     "output_type": "stream",
     "text": [
      "2\n",
      "11\n"
     ]
    }
   ],
   "source": [
    "print(1 + 1) # 2\n",
    "print(\"1\" + \"1\") # \"11\""
   ]
  },
  {
   "cell_type": "markdown",
   "metadata": {},
   "source": [
    "우리가 보통 메쏘드를 다음과 같이 쓰죠."
   ]
  },
  {
   "cell_type": "code",
   "execution_count": 31,
   "metadata": {},
   "outputs": [
    {
     "data": {
      "text/plain": [
       "<bound method Employee.fullname of <__main__.Employee object at 0x1130cff98>>"
      ]
     },
     "execution_count": 31,
     "metadata": {},
     "output_type": "execute_result"
    }
   ],
   "source": [
    "print(emp_1.fullname)"
   ]
  },
  {
   "cell_type": "code",
   "execution_count": 32,
   "metadata": {},
   "outputs": [
    {
     "name": "stdout",
     "output_type": "stream",
     "text": [
      "Sungchul Lee\n"
     ]
    }
   ],
   "source": [
    "print(emp_1.fullname())"
   ]
  },
  {
   "cell_type": "markdown",
   "metadata": {},
   "source": [
    "하지만 파이쎤 내부에서는 아래와 같이 돌아가요.\n",
    "인스턴스 이름이 괄호 안에 들어가죠.\n",
    "인스턴스 이름은 그때 그때 변하니까, 이를 대표해서 ```self```라 하고 이를 메쏘드의 첫번째 아규먼트로 집어넣는거죠."
   ]
  },
  {
   "cell_type": "code",
   "execution_count": 33,
   "metadata": {},
   "outputs": [
    {
     "name": "stdout",
     "output_type": "stream",
     "text": [
      "Sungchul Lee\n"
     ]
    }
   ],
   "source": [
    "print(Employee.fullname(emp_1))"
   ]
  },
  {
   "cell_type": "markdown",
   "metadata": {},
   "source": [
    "[<a href=\"#Classes-and-Instances\">Back to top</a>]"
   ]
  },
  {
   "cell_type": "code",
   "execution_count": 34,
   "metadata": {},
   "outputs": [
    {
     "name": "stdout",
     "output_type": "stream",
     "text": [
      "[[1. 2.]\n",
      " [3. 4.]]\n",
      "[[1. 0.]\n",
      " [0. 1.]]\n",
      "[[1. 2.]\n",
      " [3. 4.]]\n",
      "[[1. 2.]\n",
      " [3. 4.]]\n",
      "[[1. 2.]\n",
      " [3. 4.]]\n",
      "<class 'numpy.ndarray'>\n",
      "[[1. 2.]\n",
      " [3. 4.]]\n"
     ]
    }
   ],
   "source": [
    "import numpy as np\n",
    "\n",
    "A = np.array([[1.,2.],[3.,4.]])\n",
    "B = np.eye(2)\n",
    "\n",
    "print(A)\n",
    "print(B)\n",
    "print(A@B)\n",
    "print(np.matmul(A,B))\n",
    "print(A.dot(B))\n",
    "print(type(A))\n",
    "print(np.ndarray.dot(A,B))"
   ]
  },
  {
   "cell_type": "code",
   "execution_count": 35,
   "metadata": {},
   "outputs": [
    {
     "name": "stdout",
     "output_type": "stream",
     "text": [
      "[0 1 2 3 4 5 6 7 8 9]\n",
      "int64\n",
      "(10,)\n",
      "range(0, 10)\n",
      "'range' object has no attribute 'dtype'\n"
     ]
    }
   ],
   "source": [
    "import numpy as np\n",
    "\n",
    "a = np.arange(10)\n",
    "print(a)\n",
    "print(a.dtype)\n",
    "print(a.shape)\n",
    "\n",
    "try:\n",
    "    b = range(10)\n",
    "    print(b)\n",
    "    print(b.dtype)\n",
    "except Exception as e:\n",
    "    print(e)"
   ]
  },
  {
   "cell_type": "code",
   "execution_count": null,
   "metadata": {
    "collapsed": true
   },
   "outputs": [],
   "source": []
  }
 ],
 "metadata": {
  "kernelspec": {
   "display_name": "Python [default]",
   "language": "python",
   "name": "python3"
  },
  "language_info": {
   "codemirror_mode": {
    "name": "ipython",
    "version": 3
   },
   "file_extension": ".py",
   "mimetype": "text/x-python",
   "name": "python",
   "nbconvert_exporter": "python",
   "pygments_lexer": "ipython3",
   "version": "3.5.0"
  }
 },
 "nbformat": 4,
 "nbformat_minor": 2
}
