{
 "cells": [
  {
   "cell_type": "markdown",
   "metadata": {},
   "source": [
    "# Inheritance"
   ]
  },
  {
   "cell_type": "markdown",
   "metadata": {},
   "source": [
    "Corey_Schafer [youtube](https://www.youtube.com/watch?v=RSl87lqOXDE&list=PL-osiE80TeTsqhIuOqKhwlXsIBIdSeYtc&index=4)"
   ]
  },
  {
   "cell_type": "markdown",
   "metadata": {},
   "source": [
    "<a href=\"#Employee-클래스\">Employee 클래스</a>\n",
    "\n",
    "<a href=\"#Developer-클래스\">Developer 클래스</a>\n",
    "\n",
    "<a href=\"#Manager-클래스\">Manager 클래스</a>"
   ]
  },
  {
   "cell_type": "markdown",
   "metadata": {},
   "source": [
    "# Employee 클래스"
   ]
  },
  {
   "cell_type": "code",
   "execution_count": 1,
   "metadata": {},
   "outputs": [],
   "source": [
    "class Employee:\n",
    "\n",
    "    raise_amt = 1.04\n",
    "\n",
    "    def __init__(self, first, last, email, pay):\n",
    "        self.first = first\n",
    "        self.last = last\n",
    "        self.email = email\n",
    "        self.pay = pay\n",
    "\n",
    "    def fullname(self):\n",
    "        return '{} {}'.format(self.first, self.last)\n",
    "\n",
    "    def apply_raise(self):\n",
    "        self.pay = int(self.pay * self.raise_amt)"
   ]
  },
  {
   "cell_type": "code",
   "execution_count": 3,
   "metadata": {},
   "outputs": [
    {
     "name": "stdout",
     "output_type": "stream",
     "text": [
      "sungchul@yonsei.ac.kr\n",
      "Sungchul Lee\n",
      "Sungchul Lee\n"
     ]
    }
   ],
   "source": [
    "emp_1 = Employee('Sungchul', 'Lee', 'sungchul@yonsei.ac.kr', 150000)\n",
    "print(emp_1.email) # sungchul@yonsei.ac.kr\n",
    "print(emp_1.fullname()) # Sungchul Lee\n",
    "print(Employee.fullname(emp_1)) # Sungchul Lee"
   ]
  },
  {
   "cell_type": "code",
   "execution_count": 4,
   "metadata": {},
   "outputs": [
    {
     "name": "stdout",
     "output_type": "stream",
     "text": [
      "sook@gmail.com\n",
      "Sookkyung Kim\n",
      "Sookkyung Kim\n"
     ]
    }
   ],
   "source": [
    "emp_2 = Employee('Sookkyung', 'Kim', 'sook@gmail.com', 250000)\n",
    "print(emp_2.email) # sook@gmail.com\n",
    "print(emp_2.fullname()) # Sookkyung Kim\n",
    "print(Employee.fullname(emp_2)) # Sookkyung Kim"
   ]
  },
  {
   "cell_type": "markdown",
   "metadata": {},
   "source": [
    "[<a href=\"#Inheritance\">Back to top</a>]"
   ]
  },
  {
   "cell_type": "markdown",
   "metadata": {},
   "source": [
    "# Developer 클래스"
   ]
  },
  {
   "cell_type": "markdown",
   "metadata": {},
   "source": [
    "##### ```Employee``` 클래스에서 유산을 상속받읍시다."
   ]
  },
  {
   "cell_type": "code",
   "execution_count": 5,
   "metadata": {},
   "outputs": [],
   "source": [
    "class Developer(Employee):\n",
    "    pass"
   ]
  },
  {
   "cell_type": "code",
   "execution_count": 7,
   "metadata": {},
   "outputs": [
    {
     "name": "stdout",
     "output_type": "stream",
     "text": [
      "sungchul@yonsei.ac.kr\n",
      "Sungchul Lee\n",
      "Sungchul Lee\n",
      "<class '__main__.Developer'>\n"
     ]
    }
   ],
   "source": [
    "dev_1 = Developer('Sungchul', 'Lee', 'sungchul@yonsei.ac.kr', 150000)\n",
    "print(dev_1.email) # sungchul@yonsei.ac.kr\n",
    "print(dev_1.fullname()) # Sungchul Lee\n",
    "print(Developer.fullname(dev_1)) # Sungchul Lee\n",
    "print(type(dev_1))"
   ]
  },
  {
   "cell_type": "code",
   "execution_count": 8,
   "metadata": {},
   "outputs": [
    {
     "name": "stdout",
     "output_type": "stream",
     "text": [
      "Help on class Developer in module __main__:\n",
      "\n",
      "class Developer(Employee)\n",
      " |  Method resolution order:\n",
      " |      Developer\n",
      " |      Employee\n",
      " |      builtins.object\n",
      " |  \n",
      " |  Methods inherited from Employee:\n",
      " |  \n",
      " |  __init__(self, first, last, email, pay)\n",
      " |      Initialize self.  See help(type(self)) for accurate signature.\n",
      " |  \n",
      " |  apply_raise(self)\n",
      " |  \n",
      " |  fullname(self)\n",
      " |  \n",
      " |  ----------------------------------------------------------------------\n",
      " |  Data descriptors inherited from Employee:\n",
      " |  \n",
      " |  __dict__\n",
      " |      dictionary for instance variables (if defined)\n",
      " |  \n",
      " |  __weakref__\n",
      " |      list of weak references to the object (if defined)\n",
      " |  \n",
      " |  ----------------------------------------------------------------------\n",
      " |  Data and other attributes inherited from Employee:\n",
      " |  \n",
      " |  raise_amt = 1.04\n",
      "\n",
      "None\n"
     ]
    }
   ],
   "source": [
    "print(help(Developer))"
   ]
  },
  {
   "cell_type": "markdown",
   "metadata": {},
   "source": [
    "##### Employee 클래스에서 유산을 상속받은 후, ```raise_amt``` 이 부분만 ```raise_amt = 1.10```으로 바꾸어 보죠. "
   ]
  },
  {
   "cell_type": "code",
   "execution_count": 9,
   "metadata": {},
   "outputs": [
    {
     "name": "stdout",
     "output_type": "stream",
     "text": [
      "sungchul@yonsei.ac.kr\n",
      "Sungchul Lee\n",
      "Sungchul Lee\n",
      "<class '__main__.Developer'>\n"
     ]
    }
   ],
   "source": [
    "dev_1 = Developer('Sungchul', 'Lee', 'sungchul@yonsei.ac.kr', 150000)\n",
    "print(dev_1.email) # sungchul@yonsei.ac.kr\n",
    "print(dev_1.fullname()) # Sungchul Lee\n",
    "print(Developer.fullname(dev_1)) # Sungchul Lee\n",
    "print(type(dev_1))"
   ]
  },
  {
   "cell_type": "code",
   "execution_count": 11,
   "metadata": {},
   "outputs": [
    {
     "name": "stdout",
     "output_type": "stream",
     "text": [
      "150000\n",
      "156000\n"
     ]
    }
   ],
   "source": [
    "print(dev_1.pay)\n",
    "dev_1.apply_raise()\n",
    "print(dev_1.pay)"
   ]
  },
  {
   "cell_type": "code",
   "execution_count": 12,
   "metadata": {},
   "outputs": [
    {
     "name": "stdout",
     "output_type": "stream",
     "text": [
      "1.04\n"
     ]
    }
   ],
   "source": [
    "print(dev_1.raise_amt)"
   ]
  },
  {
   "cell_type": "code",
   "execution_count": 13,
   "metadata": {},
   "outputs": [
    {
     "name": "stdout",
     "output_type": "stream",
     "text": [
      "{'first': 'Sungchul', 'last': 'Lee', 'email': 'sungchul@yonsei.ac.kr', 'pay': 156000}\n"
     ]
    }
   ],
   "source": [
    "print(dev_1.__dict__)"
   ]
  },
  {
   "cell_type": "code",
   "execution_count": 14,
   "metadata": {},
   "outputs": [
    {
     "name": "stdout",
     "output_type": "stream",
     "text": [
      "{'__module__': '__main__', '__doc__': None}\n"
     ]
    }
   ],
   "source": [
    "print(Developer.__dict__)"
   ]
  },
  {
   "cell_type": "code",
   "execution_count": 15,
   "metadata": {},
   "outputs": [
    {
     "name": "stdout",
     "output_type": "stream",
     "text": [
      "{'__weakref__': <attribute '__weakref__' of 'Employee' objects>, 'raise_amt': 1.04, '__dict__': <attribute '__dict__' of 'Employee' objects>, 'fullname': <function Employee.fullname at 0x11107f1e0>, '__module__': '__main__', '__init__': <function Employee.__init__ at 0x11107f2f0>, '__doc__': None, 'apply_raise': <function Employee.apply_raise at 0x11107f158>}\n"
     ]
    }
   ],
   "source": [
    "print(Employee.__dict__)"
   ]
  },
  {
   "cell_type": "code",
   "execution_count": 17,
   "metadata": {},
   "outputs": [],
   "source": [
    "class Developer(Employee):\n",
    "    raise_amt = 1.10"
   ]
  },
  {
   "cell_type": "code",
   "execution_count": 18,
   "metadata": {},
   "outputs": [
    {
     "name": "stdout",
     "output_type": "stream",
     "text": [
      "150000\n",
      "165000\n"
     ]
    }
   ],
   "source": [
    "dev_1 = Developer('Sungchul', 'Lee', 'sungchul@yonsei.ac.kr', 150000)\n",
    "\n",
    "print(dev_1.pay)\n",
    "dev_1.apply_raise()\n",
    "print(dev_1.pay)"
   ]
  },
  {
   "cell_type": "code",
   "execution_count": 19,
   "metadata": {},
   "outputs": [
    {
     "name": "stdout",
     "output_type": "stream",
     "text": [
      "{'first': 'Sungchul', 'last': 'Lee', 'email': 'sungchul@yonsei.ac.kr', 'pay': 165000}\n"
     ]
    }
   ],
   "source": [
    "print(dev_1.__dict__)"
   ]
  },
  {
   "cell_type": "code",
   "execution_count": 20,
   "metadata": {},
   "outputs": [
    {
     "name": "stdout",
     "output_type": "stream",
     "text": [
      "{'raise_amt': 1.1, '__module__': '__main__', '__doc__': None}\n"
     ]
    }
   ],
   "source": [
    "print(Developer.__dict__)"
   ]
  },
  {
   "cell_type": "code",
   "execution_count": 21,
   "metadata": {},
   "outputs": [
    {
     "name": "stdout",
     "output_type": "stream",
     "text": [
      "{'__weakref__': <attribute '__weakref__' of 'Employee' objects>, 'raise_amt': 1.04, '__dict__': <attribute '__dict__' of 'Employee' objects>, 'fullname': <function Employee.fullname at 0x11107f1e0>, '__module__': '__main__', '__init__': <function Employee.__init__ at 0x11107f2f0>, '__doc__': None, 'apply_raise': <function Employee.apply_raise at 0x11107f158>}\n"
     ]
    }
   ],
   "source": [
    "print(Employee.__dict__)"
   ]
  },
  {
   "cell_type": "markdown",
   "metadata": {},
   "source": [
    "###### Employee 클래스에서 상속받은 init method에 ```prog_lang``` 항목을 추가하여 봅시다. "
   ]
  },
  {
   "cell_type": "code",
   "execution_count": 2,
   "metadata": {},
   "outputs": [],
   "source": [
    "class Developer(Employee):\n",
    "    \n",
    "    raise_amt = 1.10\n",
    "\n",
    "    def __init__(self, first, last, email, pay, prog_lang):\n",
    "        # Employee.__init__(self, first, last, email, pay) # These two lines are identical\n",
    "        super().__init__(first, last, email, pay) # These two lines are identical\n",
    "        self.prog_lang = prog_lang"
   ]
  },
  {
   "cell_type": "code",
   "execution_count": 23,
   "metadata": {},
   "outputs": [
    {
     "name": "stdout",
     "output_type": "stream",
     "text": [
      "Python\n"
     ]
    }
   ],
   "source": [
    "dev_1 = Developer('Sungchul', 'Lee', 'sungchul@yonsei.ac.kr', 150000, 'Python')\n",
    "print(dev_1.prog_lang)"
   ]
  },
  {
   "cell_type": "markdown",
   "metadata": {},
   "source": [
    "[<a href=\"#Inheritance\">Back to top</a>]"
   ]
  },
  {
   "cell_type": "markdown",
   "metadata": {},
   "source": [
    "# Manager 클래스"
   ]
  },
  {
   "cell_type": "markdown",
   "metadata": {},
   "source": [
    "##### ```Employee``` 클래스에서 유산을 상속받읍시다."
   ]
  },
  {
   "cell_type": "code",
   "execution_count": 3,
   "metadata": {},
   "outputs": [],
   "source": [
    "class Manager(Employee):\n",
    "\n",
    "    def __init__(self, first, last, email, pay, employees=None):\n",
    "        super().__init__(first, last, pay, email)\n",
    "        if employees is None:\n",
    "            self.employees = []\n",
    "        else:\n",
    "            self.employees = employees\n",
    "\n",
    "    def add_emp(self, emp):\n",
    "        if emp not in self.employees:\n",
    "            self.employees.append(emp)\n",
    "\n",
    "    def remove_emp(self, emp):\n",
    "        if emp in self.employees:\n",
    "            self.employees.remove(emp)\n",
    "\n",
    "    def print_emps(self):\n",
    "        for emp in self.employees:\n",
    "            print('-->', emp.fullname())"
   ]
  },
  {
   "cell_type": "code",
   "execution_count": 5,
   "metadata": {},
   "outputs": [],
   "source": [
    "dev_1 = Developer('Sungchul', 'Lee', 'sungchul@yonsei.ac.kr', 150000, 'Python')\n",
    "dev_2 = Developer('Sookkyung', 'Kim', 'sook@gmail.com', 250000, 'Java')\n",
    "dev_3 = Developer('Junhyung', 'Lee', 'Jun_Lee@gmail.com', 100000, 'C#')"
   ]
  },
  {
   "cell_type": "code",
   "execution_count": 7,
   "metadata": {},
   "outputs": [
    {
     "name": "stdout",
     "output_type": "stream",
     "text": [
      "290000\n",
      "[<__main__.Developer object at 0x112976b70>, <__main__.Developer object at 0x112976b38>]\n",
      "--> Sungchul Lee\n",
      "--> Sookkyung Kim\n",
      "None\n"
     ]
    }
   ],
   "source": [
    "mgr_1 = Manager('Sue', 'Smith', 'Sue.Smith@gmail.com', 290000, [dev_1, dev_2])\n",
    "print(mgr_1.email)\n",
    "print(mgr_1.employees)\n",
    "print(mgr_1.print_emps())"
   ]
  },
  {
   "cell_type": "code",
   "execution_count": 9,
   "metadata": {},
   "outputs": [
    {
     "name": "stdout",
     "output_type": "stream",
     "text": [
      "--> Sungchul Lee\n",
      "--> Sookkyung Kim\n",
      "--> Junhyung Lee\n"
     ]
    }
   ],
   "source": [
    "mgr_1.add_emp(dev_3)\n",
    "mgr_1.print_emps()"
   ]
  },
  {
   "cell_type": "code",
   "execution_count": 10,
   "metadata": {},
   "outputs": [
    {
     "name": "stdout",
     "output_type": "stream",
     "text": [
      "--> Sookkyung Kim\n",
      "--> Junhyung Lee\n"
     ]
    }
   ],
   "source": [
    "mgr_1.remove_emp(dev_1)\n",
    "mgr_1.print_emps()"
   ]
  },
  {
   "cell_type": "markdown",
   "metadata": {},
   "source": [
    "##### 특정 인스탄스가 어떤 클래스에 속하는지 알아보는 방법"
   ]
  },
  {
   "cell_type": "code",
   "execution_count": 11,
   "metadata": {},
   "outputs": [
    {
     "name": "stdout",
     "output_type": "stream",
     "text": [
      "True\n",
      "<class '__main__.Manager'>\n"
     ]
    }
   ],
   "source": [
    "print(isinstance(mgr_1, Manager))\n",
    "print(type(mgr_1))"
   ]
  },
  {
   "cell_type": "code",
   "execution_count": 12,
   "metadata": {},
   "outputs": [
    {
     "name": "stdout",
     "output_type": "stream",
     "text": [
      "True\n"
     ]
    }
   ],
   "source": [
    "print(isinstance(mgr_1, Employee))"
   ]
  },
  {
   "cell_type": "code",
   "execution_count": 13,
   "metadata": {},
   "outputs": [
    {
     "name": "stdout",
     "output_type": "stream",
     "text": [
      "False\n"
     ]
    }
   ],
   "source": [
    "print(isinstance(mgr_1, Developer))"
   ]
  },
  {
   "cell_type": "code",
   "execution_count": 14,
   "metadata": {},
   "outputs": [
    {
     "name": "stdout",
     "output_type": "stream",
     "text": [
      "<class '__main__.Manager'>\n"
     ]
    }
   ],
   "source": [
    "print(type(mgr_1))"
   ]
  },
  {
   "cell_type": "markdown",
   "metadata": {},
   "source": [
    "##### 특정 클래스가 어떤 클래스로부터 상속받은 서브클래스인지 알아보는 방법"
   ]
  },
  {
   "cell_type": "code",
   "execution_count": 15,
   "metadata": {},
   "outputs": [
    {
     "data": {
      "text/plain": [
       "True"
      ]
     },
     "execution_count": 15,
     "metadata": {},
     "output_type": "execute_result"
    }
   ],
   "source": [
    "issubclass(Developer, Employee)"
   ]
  },
  {
   "cell_type": "code",
   "execution_count": 16,
   "metadata": {},
   "outputs": [
    {
     "data": {
      "text/plain": [
       "True"
      ]
     },
     "execution_count": 16,
     "metadata": {},
     "output_type": "execute_result"
    }
   ],
   "source": [
    "issubclass(Manager, Employee)"
   ]
  },
  {
   "cell_type": "code",
   "execution_count": 17,
   "metadata": {},
   "outputs": [
    {
     "data": {
      "text/plain": [
       "False"
      ]
     },
     "execution_count": 17,
     "metadata": {},
     "output_type": "execute_result"
    }
   ],
   "source": [
    "issubclass(Manager, Developer)"
   ]
  },
  {
   "cell_type": "markdown",
   "metadata": {},
   "source": [
    "[<a href=\"#Inheritance\">Back to top</a>]"
   ]
  }
 ],
 "metadata": {
  "kernelspec": {
   "display_name": "Python [default]",
   "language": "python",
   "name": "python3"
  },
  "language_info": {
   "codemirror_mode": {
    "name": "ipython",
    "version": 3
   },
   "file_extension": ".py",
   "mimetype": "text/x-python",
   "name": "python",
   "nbconvert_exporter": "python",
   "pygments_lexer": "ipython3",
   "version": "3.5.0"
  }
 },
 "nbformat": 4,
 "nbformat_minor": 2
}
