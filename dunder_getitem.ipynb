{
 "cells": [
  {
   "cell_type": "code",
   "execution_count": 8,
   "metadata": {},
   "outputs": [
    {
     "name": "stdout",
     "output_type": "stream",
     "text": [
      "Card(rank='7', suit='diamonds')\n",
      "7\n",
      "diamonds\n"
     ]
    }
   ],
   "source": [
    "from collections import namedtuple\n",
    "\n",
    "Card = namedtuple('Card', ['rank', 'suit'])\n",
    "\n",
    "card = Card('7', 'diamonds')\n",
    "print(card)\n",
    "print(card.rank)\n",
    "print(card.suit)"
   ]
  },
  {
   "cell_type": "code",
   "execution_count": 9,
   "metadata": {},
   "outputs": [
    {
     "name": "stdout",
     "output_type": "stream",
     "text": [
      "['2', '3', '4', '5', '6', '7', '8', '9', '10', 'J', 'Q', 'K', 'A']\n"
     ]
    }
   ],
   "source": [
    "ranks = [str(n) for n in range(2, 11)] + list('JQKA')\n",
    "# [str(n) for n in range(2, 11)] = ['2', '3', '4', '5', '6', '7', '8', '9']\n",
    "# list('JQKA') = ['J', 'Q', 'K', 'A']\n",
    "\n",
    "print(ranks)"
   ]
  },
  {
   "cell_type": "code",
   "execution_count": 10,
   "metadata": {},
   "outputs": [
    {
     "name": "stdout",
     "output_type": "stream",
     "text": [
      "['spades', 'diamonds', 'clubs', 'hearts']\n"
     ]
    }
   ],
   "source": [
    "suits = 'spades diamonds clubs hearts'.split()\n",
    "print(suits)"
   ]
  },
  {
   "cell_type": "code",
   "execution_count": 7,
   "metadata": {},
   "outputs": [],
   "source": [
    "from collections import namedtuple\n",
    "\n",
    "Card = namedtuple('Card', ['rank', 'suit'])\n",
    "\n",
    "class FrenchDeck:\n",
    "    ranks = [str(n) for n in range(2, 11)] + list('JQKA')\n",
    "    suits = 'spades diamonds clubs hearts'.split()\n",
    "\n",
    "    def __init__(self):\n",
    "        self._cards = [Card(rank, suit) for suit in self.suits\n",
    "                                        for rank in self.ranks]\n",
    "\n",
    "    def __len__(self):\n",
    "        return len(self._cards)\n",
    "\n",
    "    def __getitem__(self, position):\n",
    "        return self._cards[position]"
   ]
  },
  {
   "cell_type": "code",
   "execution_count": 8,
   "metadata": {},
   "outputs": [
    {
     "name": "stdout",
     "output_type": "stream",
     "text": [
      "[Card(rank='2', suit='spades'), Card(rank='3', suit='spades'), Card(rank='4', suit='spades'), Card(rank='5', suit='spades'), Card(rank='6', suit='spades'), Card(rank='7', suit='spades'), Card(rank='8', suit='spades'), Card(rank='9', suit='spades'), Card(rank='10', suit='spades'), Card(rank='J', suit='spades'), Card(rank='Q', suit='spades'), Card(rank='K', suit='spades'), Card(rank='A', suit='spades'), Card(rank='2', suit='diamonds'), Card(rank='3', suit='diamonds'), Card(rank='4', suit='diamonds'), Card(rank='5', suit='diamonds'), Card(rank='6', suit='diamonds'), Card(rank='7', suit='diamonds'), Card(rank='8', suit='diamonds'), Card(rank='9', suit='diamonds'), Card(rank='10', suit='diamonds'), Card(rank='J', suit='diamonds'), Card(rank='Q', suit='diamonds'), Card(rank='K', suit='diamonds'), Card(rank='A', suit='diamonds'), Card(rank='2', suit='clubs'), Card(rank='3', suit='clubs'), Card(rank='4', suit='clubs'), Card(rank='5', suit='clubs'), Card(rank='6', suit='clubs'), Card(rank='7', suit='clubs'), Card(rank='8', suit='clubs'), Card(rank='9', suit='clubs'), Card(rank='10', suit='clubs'), Card(rank='J', suit='clubs'), Card(rank='Q', suit='clubs'), Card(rank='K', suit='clubs'), Card(rank='A', suit='clubs'), Card(rank='2', suit='hearts'), Card(rank='3', suit='hearts'), Card(rank='4', suit='hearts'), Card(rank='5', suit='hearts'), Card(rank='6', suit='hearts'), Card(rank='7', suit='hearts'), Card(rank='8', suit='hearts'), Card(rank='9', suit='hearts'), Card(rank='10', suit='hearts'), Card(rank='J', suit='hearts'), Card(rank='Q', suit='hearts'), Card(rank='K', suit='hearts'), Card(rank='A', suit='hearts')]\n"
     ]
    }
   ],
   "source": [
    "deck = FrenchDeck()\n",
    "print(deck._cards)"
   ]
  },
  {
   "cell_type": "code",
   "execution_count": 3,
   "metadata": {},
   "outputs": [
    {
     "name": "stdout",
     "output_type": "stream",
     "text": [
      "52\n",
      "52\n",
      "52\n"
     ]
    }
   ],
   "source": [
    "deck = FrenchDeck()\n",
    "print(len(deck))\n",
    "print(deck.__len__())\n",
    "print(FrenchDeck.__len__(deck))"
   ]
  },
  {
   "cell_type": "markdown",
   "metadata": {},
   "source": [
    "카드 한 벌(deck)에서 특정 카드를 읽을 수 있다.\n",
    "예를 들어 deck[0]은 첫 번째 카드, deck[-1]은 마지막 카드를 가져온다.\n",
    "이 기능은 __getitem__() 메써드가 제공한다. "
   ]
  },
  {
   "cell_type": "code",
   "execution_count": 4,
   "metadata": {},
   "outputs": [
    {
     "name": "stdout",
     "output_type": "stream",
     "text": [
      "<__main__.FrenchDeck object at 0x111658a58>\n",
      "Card(rank='2', suit='spades')\n",
      "Card(rank='2', suit='spades')\n",
      "Card(rank='2', suit='spades')\n",
      "Card(rank='2', suit='spades')\n"
     ]
    }
   ],
   "source": [
    "print(deck)\n",
    "print(deck._cards[0])\n",
    "print(deck[0])\n",
    "print(deck.__getitem__(0))\n",
    "print(FrenchDeck.__getitem__(deck, 0))"
   ]
  },
  {
   "cell_type": "code",
   "execution_count": 5,
   "metadata": {},
   "outputs": [
    {
     "name": "stdout",
     "output_type": "stream",
     "text": [
      "Card(rank='A', suit='hearts')\n",
      "Card(rank='A', suit='hearts')\n",
      "Card(rank='A', suit='hearts')\n"
     ]
    }
   ],
   "source": [
    "print(deck[-1])\n",
    "print(deck.__getitem__(-1))\n",
    "print(FrenchDeck.__getitem__(deck, -1))"
   ]
  },
  {
   "cell_type": "markdown",
   "metadata": {},
   "source": [
    "여기서 우리는 특별 메써드를 통해 파이썬 데이타 모델을 사용할 때의 두가지 장점을 알게 되었다.\n",
    "\n",
    "- 사용자의 표준 연산을 수행하기 위해 클래스 자체에서 구현한 임의의 메써드명을 암기할 필요가 없다.\n",
    "\n",
    "- 파이썬 표준 라이브러리에서 제공하는 풍부한 기능을 별도로 구현할 필요 없이 바로 사용할 수 있다."
   ]
  },
  {
   "cell_type": "markdown",
   "metadata": {},
   "source": [
    "그러나 이것이 전부가 아니다. \n",
    "__getitem__() 메써드는 self._cards의 [] 연산자의 작업을 대행함으로 deck 객체는 슬라이싱도 자동으로 지원한다.\n",
    "새로 생성한 deck 객체에서 앞의 카드 세 장을 가져오는 방법은 다음과 같다."
   ]
  },
  {
   "cell_type": "code",
   "execution_count": 9,
   "metadata": {},
   "outputs": [
    {
     "name": "stdout",
     "output_type": "stream",
     "text": [
      "[Card(rank='2', suit='spades'), Card(rank='3', suit='spades'), Card(rank='4', suit='spades')]\n"
     ]
    }
   ],
   "source": [
    "print(deck[:3])\n",
    "# print(deck.__getitems__(:3)) # SyntaxError: invalid syntax\n",
    "# print(FrenchDeck.__getitems__(deck, :3)) # SyntaxError: invalid syntax"
   ]
  },
  {
   "cell_type": "markdown",
   "metadata": {},
   "source": [
    "12번 인덱스에서 시작해서 13개씩 건너뛰어 에이스만 가져오는 방법은 다음과 같다."
   ]
  },
  {
   "cell_type": "code",
   "execution_count": 12,
   "metadata": {},
   "outputs": [
    {
     "ename": "SyntaxError",
     "evalue": "invalid syntax (<ipython-input-12-ba4ca2ddd5d0>, line 3)",
     "output_type": "error",
     "traceback": [
      "\u001b[0;36m  File \u001b[0;32m\"<ipython-input-12-ba4ca2ddd5d0>\"\u001b[0;36m, line \u001b[0;32m3\u001b[0m\n\u001b[0;31m    print(FrenchDeck.__getitems__(deck, 12::13))\u001b[0m\n\u001b[0m                                          ^\u001b[0m\n\u001b[0;31mSyntaxError\u001b[0m\u001b[0;31m:\u001b[0m invalid syntax\n"
     ]
    }
   ],
   "source": [
    "print(deck[12::13])\n",
    "# print(deck.__getitems__(12::13)) # SyntaxError: invalid syntax\n",
    "# print(FrenchDeck.__getitems__(deck, 12::13)) # SyntaxError: invalid syntax"
   ]
  },
  {
   "cell_type": "markdown",
   "metadata": {},
   "source": [
    "__getitem__() 메써드를 구현함으로써 deck을 반복할 수도 있다."
   ]
  },
  {
   "cell_type": "code",
   "execution_count": 9,
   "metadata": {},
   "outputs": [
    {
     "name": "stdout",
     "output_type": "stream",
     "text": [
      "Card(rank='2', suit='spades')\n",
      "Card(rank='3', suit='spades')\n",
      "Card(rank='4', suit='spades')\n",
      "Card(rank='5', suit='spades')\n",
      "Card(rank='6', suit='spades')\n",
      "Card(rank='7', suit='spades')\n",
      "Card(rank='8', suit='spades')\n",
      "Card(rank='9', suit='spades')\n",
      "Card(rank='10', suit='spades')\n",
      "Card(rank='J', suit='spades')\n",
      "Card(rank='Q', suit='spades')\n",
      "Card(rank='K', suit='spades')\n",
      "Card(rank='A', suit='spades')\n",
      "Card(rank='2', suit='diamonds')\n",
      "Card(rank='3', suit='diamonds')\n",
      "Card(rank='4', suit='diamonds')\n",
      "Card(rank='5', suit='diamonds')\n",
      "Card(rank='6', suit='diamonds')\n",
      "Card(rank='7', suit='diamonds')\n",
      "Card(rank='8', suit='diamonds')\n",
      "Card(rank='9', suit='diamonds')\n",
      "Card(rank='10', suit='diamonds')\n",
      "Card(rank='J', suit='diamonds')\n",
      "Card(rank='Q', suit='diamonds')\n",
      "Card(rank='K', suit='diamonds')\n",
      "Card(rank='A', suit='diamonds')\n",
      "Card(rank='2', suit='clubs')\n",
      "Card(rank='3', suit='clubs')\n",
      "Card(rank='4', suit='clubs')\n",
      "Card(rank='5', suit='clubs')\n",
      "Card(rank='6', suit='clubs')\n",
      "Card(rank='7', suit='clubs')\n",
      "Card(rank='8', suit='clubs')\n",
      "Card(rank='9', suit='clubs')\n",
      "Card(rank='10', suit='clubs')\n",
      "Card(rank='J', suit='clubs')\n",
      "Card(rank='Q', suit='clubs')\n",
      "Card(rank='K', suit='clubs')\n",
      "Card(rank='A', suit='clubs')\n",
      "Card(rank='2', suit='hearts')\n",
      "Card(rank='3', suit='hearts')\n",
      "Card(rank='4', suit='hearts')\n",
      "Card(rank='5', suit='hearts')\n",
      "Card(rank='6', suit='hearts')\n",
      "Card(rank='7', suit='hearts')\n",
      "Card(rank='8', suit='hearts')\n",
      "Card(rank='9', suit='hearts')\n",
      "Card(rank='10', suit='hearts')\n",
      "Card(rank='J', suit='hearts')\n",
      "Card(rank='Q', suit='hearts')\n",
      "Card(rank='K', suit='hearts')\n",
      "Card(rank='A', suit='hearts')\n"
     ]
    }
   ],
   "source": [
    "for card in deck:  \n",
    "    print(card)"
   ]
  },
  {
   "cell_type": "markdown",
   "metadata": {},
   "source": [
    "deck을 뒤에서부터 반복할 수도 있다."
   ]
  },
  {
   "cell_type": "code",
   "execution_count": 10,
   "metadata": {},
   "outputs": [
    {
     "name": "stdout",
     "output_type": "stream",
     "text": [
      "Card(rank='A', suit='hearts')\n",
      "Card(rank='K', suit='hearts')\n",
      "Card(rank='Q', suit='hearts')\n",
      "Card(rank='J', suit='hearts')\n",
      "Card(rank='10', suit='hearts')\n",
      "Card(rank='9', suit='hearts')\n",
      "Card(rank='8', suit='hearts')\n",
      "Card(rank='7', suit='hearts')\n",
      "Card(rank='6', suit='hearts')\n",
      "Card(rank='5', suit='hearts')\n",
      "Card(rank='4', suit='hearts')\n",
      "Card(rank='3', suit='hearts')\n",
      "Card(rank='2', suit='hearts')\n",
      "Card(rank='A', suit='clubs')\n",
      "Card(rank='K', suit='clubs')\n",
      "Card(rank='Q', suit='clubs')\n",
      "Card(rank='J', suit='clubs')\n",
      "Card(rank='10', suit='clubs')\n",
      "Card(rank='9', suit='clubs')\n",
      "Card(rank='8', suit='clubs')\n",
      "Card(rank='7', suit='clubs')\n",
      "Card(rank='6', suit='clubs')\n",
      "Card(rank='5', suit='clubs')\n",
      "Card(rank='4', suit='clubs')\n",
      "Card(rank='3', suit='clubs')\n",
      "Card(rank='2', suit='clubs')\n",
      "Card(rank='A', suit='diamonds')\n",
      "Card(rank='K', suit='diamonds')\n",
      "Card(rank='Q', suit='diamonds')\n",
      "Card(rank='J', suit='diamonds')\n",
      "Card(rank='10', suit='diamonds')\n",
      "Card(rank='9', suit='diamonds')\n",
      "Card(rank='8', suit='diamonds')\n",
      "Card(rank='7', suit='diamonds')\n",
      "Card(rank='6', suit='diamonds')\n",
      "Card(rank='5', suit='diamonds')\n",
      "Card(rank='4', suit='diamonds')\n",
      "Card(rank='3', suit='diamonds')\n",
      "Card(rank='2', suit='diamonds')\n",
      "Card(rank='A', suit='spades')\n",
      "Card(rank='K', suit='spades')\n",
      "Card(rank='Q', suit='spades')\n",
      "Card(rank='J', suit='spades')\n",
      "Card(rank='10', suit='spades')\n",
      "Card(rank='9', suit='spades')\n",
      "Card(rank='8', suit='spades')\n",
      "Card(rank='7', suit='spades')\n",
      "Card(rank='6', suit='spades')\n",
      "Card(rank='5', suit='spades')\n",
      "Card(rank='4', suit='spades')\n",
      "Card(rank='3', suit='spades')\n",
      "Card(rank='2', suit='spades')\n"
     ]
    }
   ],
   "source": [
    "for card in reversed(deck):  \n",
    "    print(card)"
   ]
  },
  {
   "cell_type": "code",
   "execution_count": 12,
   "metadata": {},
   "outputs": [
    {
     "name": "stdout",
     "output_type": "stream",
     "text": [
      "1 Card(rank='2', suit='spades')\n",
      "2 Card(rank='3', suit='spades')\n",
      "3 Card(rank='4', suit='spades')\n",
      "4 Card(rank='5', suit='spades')\n",
      "5 Card(rank='6', suit='spades')\n",
      "6 Card(rank='7', suit='spades')\n",
      "7 Card(rank='8', suit='spades')\n",
      "8 Card(rank='9', suit='spades')\n",
      "9 Card(rank='10', suit='spades')\n",
      "10 Card(rank='J', suit='spades')\n",
      "11 Card(rank='Q', suit='spades')\n",
      "12 Card(rank='K', suit='spades')\n",
      "13 Card(rank='A', suit='spades')\n",
      "14 Card(rank='2', suit='diamonds')\n",
      "15 Card(rank='3', suit='diamonds')\n",
      "16 Card(rank='4', suit='diamonds')\n",
      "17 Card(rank='5', suit='diamonds')\n",
      "18 Card(rank='6', suit='diamonds')\n",
      "19 Card(rank='7', suit='diamonds')\n",
      "20 Card(rank='8', suit='diamonds')\n",
      "21 Card(rank='9', suit='diamonds')\n",
      "22 Card(rank='10', suit='diamonds')\n",
      "23 Card(rank='J', suit='diamonds')\n",
      "24 Card(rank='Q', suit='diamonds')\n",
      "25 Card(rank='K', suit='diamonds')\n",
      "26 Card(rank='A', suit='diamonds')\n",
      "27 Card(rank='2', suit='clubs')\n",
      "28 Card(rank='3', suit='clubs')\n",
      "29 Card(rank='4', suit='clubs')\n",
      "30 Card(rank='5', suit='clubs')\n",
      "31 Card(rank='6', suit='clubs')\n",
      "32 Card(rank='7', suit='clubs')\n",
      "33 Card(rank='8', suit='clubs')\n",
      "34 Card(rank='9', suit='clubs')\n",
      "35 Card(rank='10', suit='clubs')\n",
      "36 Card(rank='J', suit='clubs')\n",
      "37 Card(rank='Q', suit='clubs')\n",
      "38 Card(rank='K', suit='clubs')\n",
      "39 Card(rank='A', suit='clubs')\n",
      "40 Card(rank='2', suit='hearts')\n",
      "41 Card(rank='3', suit='hearts')\n",
      "42 Card(rank='4', suit='hearts')\n",
      "43 Card(rank='5', suit='hearts')\n",
      "44 Card(rank='6', suit='hearts')\n",
      "45 Card(rank='7', suit='hearts')\n",
      "46 Card(rank='8', suit='hearts')\n",
      "47 Card(rank='9', suit='hearts')\n",
      "48 Card(rank='10', suit='hearts')\n",
      "49 Card(rank='J', suit='hearts')\n",
      "50 Card(rank='Q', suit='hearts')\n",
      "51 Card(rank='K', suit='hearts')\n",
      "52 Card(rank='A', suit='hearts')\n"
     ]
    }
   ],
   "source": [
    "for n, card in enumerate(deck, 1):  \n",
    "    print(n, card)"
   ]
  },
  {
   "cell_type": "code",
   "execution_count": 13,
   "metadata": {},
   "outputs": [
    {
     "name": "stdout",
     "output_type": "stream",
     "text": [
      "10 Card(rank='2', suit='spades')\n",
      "11 Card(rank='3', suit='spades')\n",
      "12 Card(rank='4', suit='spades')\n",
      "13 Card(rank='5', suit='spades')\n",
      "14 Card(rank='6', suit='spades')\n",
      "15 Card(rank='7', suit='spades')\n",
      "16 Card(rank='8', suit='spades')\n",
      "17 Card(rank='9', suit='spades')\n",
      "18 Card(rank='10', suit='spades')\n",
      "19 Card(rank='J', suit='spades')\n",
      "20 Card(rank='Q', suit='spades')\n",
      "21 Card(rank='K', suit='spades')\n",
      "22 Card(rank='A', suit='spades')\n",
      "23 Card(rank='2', suit='diamonds')\n",
      "24 Card(rank='3', suit='diamonds')\n",
      "25 Card(rank='4', suit='diamonds')\n",
      "26 Card(rank='5', suit='diamonds')\n",
      "27 Card(rank='6', suit='diamonds')\n",
      "28 Card(rank='7', suit='diamonds')\n",
      "29 Card(rank='8', suit='diamonds')\n",
      "30 Card(rank='9', suit='diamonds')\n",
      "31 Card(rank='10', suit='diamonds')\n",
      "32 Card(rank='J', suit='diamonds')\n",
      "33 Card(rank='Q', suit='diamonds')\n",
      "34 Card(rank='K', suit='diamonds')\n",
      "35 Card(rank='A', suit='diamonds')\n",
      "36 Card(rank='2', suit='clubs')\n",
      "37 Card(rank='3', suit='clubs')\n",
      "38 Card(rank='4', suit='clubs')\n",
      "39 Card(rank='5', suit='clubs')\n",
      "40 Card(rank='6', suit='clubs')\n",
      "41 Card(rank='7', suit='clubs')\n",
      "42 Card(rank='8', suit='clubs')\n",
      "43 Card(rank='9', suit='clubs')\n",
      "44 Card(rank='10', suit='clubs')\n",
      "45 Card(rank='J', suit='clubs')\n",
      "46 Card(rank='Q', suit='clubs')\n",
      "47 Card(rank='K', suit='clubs')\n",
      "48 Card(rank='A', suit='clubs')\n",
      "49 Card(rank='2', suit='hearts')\n",
      "50 Card(rank='3', suit='hearts')\n",
      "51 Card(rank='4', suit='hearts')\n",
      "52 Card(rank='5', suit='hearts')\n",
      "53 Card(rank='6', suit='hearts')\n",
      "54 Card(rank='7', suit='hearts')\n",
      "55 Card(rank='8', suit='hearts')\n",
      "56 Card(rank='9', suit='hearts')\n",
      "57 Card(rank='10', suit='hearts')\n",
      "58 Card(rank='J', suit='hearts')\n",
      "59 Card(rank='Q', suit='hearts')\n",
      "60 Card(rank='K', suit='hearts')\n",
      "61 Card(rank='A', suit='hearts')\n"
     ]
    }
   ],
   "source": [
    "for n, card in enumerate(deck, 10):  \n",
    "    print(n, card)"
   ]
  },
  {
   "cell_type": "markdown",
   "metadata": {},
   "source": [
    "FrenchDeck이 암목적으로 object를 상속받지만,\n",
    "`__len__()`과 `__getitem__()` 특별 메써드를 구현함으로써 FrenchDeck은 표준 파이썬 시퀀스처럼 작동하므로\n",
    "반복 및 슬라이싱 등의 핵심 언어 기능 및 random.choice(), reversed(), sorted() 함수를 사용한 예제에서 본 것처럼 \n",
    "표준 라이브라리를 사용할 수 있다.\n",
    "`__len__()`과 `__getitem__()` 특별 메써드는 모든 작업을 list 객체인 self._cards에 떠넘길 수 있다. "
   ]
  },
  {
   "cell_type": "markdown",
   "metadata": {},
   "source": [
    "[<a href=\"#Namedtuple\">Back to top</a>]"
   ]
  }
 ],
 "metadata": {
  "kernelspec": {
   "display_name": "Python [default]",
   "language": "python",
   "name": "python3"
  },
  "language_info": {
   "codemirror_mode": {
    "name": "ipython",
    "version": 3
   },
   "file_extension": ".py",
   "mimetype": "text/x-python",
   "name": "python",
   "nbconvert_exporter": "python",
   "pygments_lexer": "ipython3",
   "version": "3.5.0"
  }
 },
 "nbformat": 4,
 "nbformat_minor": 2
}
