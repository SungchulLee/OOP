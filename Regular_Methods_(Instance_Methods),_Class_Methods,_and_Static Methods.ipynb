{
 "cells": [
  {
   "cell_type": "markdown",
   "metadata": {},
   "source": [
    "# Regular Methods (Instance Methods), Class Methods, and Static Methods"
   ]
  },
  {
   "cell_type": "markdown",
   "metadata": {},
   "source": [
    "[Regular Methods (Instance Methods), Class Methods, and Static Methods by Corey Schafer](https://www.youtube.com/watch?v=rq8cL2XMM5M&index=3&list=PL-osiE80TeTsqhIuOqKhwlXsIBIdSeYtc)"
   ]
  },
  {
   "cell_type": "markdown",
   "metadata": {},
   "source": [
    "<a href=\"#Regular-Methods-(Instance-Methods)\">Regular Methods (Instance Methods)</a>\n",
    "\n",
    "<a href=\"#Class-Methods\">Class Methods</a>\n",
    "\n",
    "<a href=\"#Static-Methods\">Static Methods</a>"
   ]
  },
  {
   "cell_type": "markdown",
   "metadata": {},
   "source": [
    "# Regular Methods (Instance Methods)"
   ]
  },
  {
   "cell_type": "markdown",
   "metadata": {},
   "source": [
    "> regular method (instance method): has self as one of it's argument\n",
    "\n",
    "```\n",
    "class Employee:\n",
    "\n",
    "    ...\n",
    "    \n",
    "    def fullname(self):\n",
    "        return '{} {}'.format(self.first, self.last)\n",
    "```\n",
    "\n",
    "> class method: has cls as one of it's argument\n",
    "\n",
    "```\n",
    "class Employee:\n",
    "\n",
    "    ...\n",
    "         \n",
    "    @classmethod \n",
    "    def set_raise_amt(cls, amount):\n",
    "        cls.raise_amt = amount\n",
    "```\n",
    "\n",
    "> static method: does not have either self or cls as one of it's argument\n",
    "\n",
    "```\n",
    "class Employee:\n",
    "\n",
    "    ...\n",
    "    \n",
    "    @staticmethod \n",
    "    def is_workday(day):\n",
    "        if day.weekday() == 5 or day.weekday() == 6:\n",
    "            return False\n",
    "        else:\n",
    "            return True\n",
    "```"
   ]
  },
  {
   "cell_type": "markdown",
   "metadata": {},
   "source": [
    "[<a href=\"#Regular-Methods-(Instance-Methods),-Class-Methods,-and-Static-Methods\">Back to top</a>]"
   ]
  },
  {
   "cell_type": "markdown",
   "metadata": {},
   "source": [
    "# Class Methods"
   ]
  },
  {
   "cell_type": "markdown",
   "metadata": {},
   "source": [
    "##### class method is defined using a decorator ```@classmethod```"
   ]
  },
  {
   "cell_type": "code",
   "execution_count": 3,
   "metadata": {},
   "outputs": [],
   "source": [
    "class Employee:\n",
    "\n",
    "    num_of_emps = 0\n",
    "    raise_amt = 1.04\n",
    "\n",
    "    def __init__(self, first, last, email, pay):\n",
    "        self.first = first\n",
    "        self.last = last\n",
    "        self.email = email\n",
    "        self.pay = int(pay)\n",
    "\n",
    "        Employee.num_of_emps += 1\n",
    "\n",
    "    def fullname(self):\n",
    "        return '{} {}'.format(self.first, self.last)\n",
    "\n",
    "    def apply_raise(self):\n",
    "        self.pay = int(self.pay * self.raise_amt)\n",
    "         \n",
    "    @classmethod \n",
    "    def set_raise_amt(cls, amount):\n",
    "        cls.raise_amt = amount"
   ]
  },
  {
   "cell_type": "code",
   "execution_count": 4,
   "metadata": {},
   "outputs": [
    {
     "name": "stdout",
     "output_type": "stream",
     "text": [
      "<bound method Employee.fullname of <__main__.Employee object at 0x112877e48>>\n",
      "Junhyung Lee\n",
      "Junhyung Lee\n"
     ]
    }
   ],
   "source": [
    "emp_1 = Employee('Sungchul', 'Lee', 'sungchul@yonsei.ac.kr', 150000)\n",
    "emp_2 = Employee('Sookkyung', 'Kim', 'sook@gmail.com', 250000)\n",
    "emp_3 = Employee('Junhyung', 'Lee', 'jun_lee@gmail.com', 100000)\n",
    "print(emp_3.fullname)\n",
    "print(emp_3.fullname())\n",
    "print(Employee.fullname(emp_3))"
   ]
  },
  {
   "cell_type": "markdown",
   "metadata": {},
   "source": [
    "##### 현재 클래스 변수값 ```raise_amt = 1.04```"
   ]
  },
  {
   "cell_type": "code",
   "execution_count": 6,
   "metadata": {},
   "outputs": [
    {
     "name": "stdout",
     "output_type": "stream",
     "text": [
      "1.04\n",
      "1.04\n",
      "1.04\n",
      "\n",
      "{'fullname': <function Employee.fullname at 0x11297f510>, '__init__': <function Employee.__init__ at 0x11297f620>, '__module__': '__main__', '__doc__': None, 'set_raise_amt': <classmethod object at 0x112975320>, 'raise_amt': 1.04, 'apply_raise': <function Employee.apply_raise at 0x11297f598>, '__weakref__': <attribute '__weakref__' of 'Employee' objects>, '__dict__': <attribute '__dict__' of 'Employee' objects>, 'num_of_emps': 3}\n",
      "{'first': 'Sungchul', 'last': 'Lee', 'pay': 150000, 'email': 'sungchul@yonsei.ac.kr'}\n",
      "{'first': 'Sookkyung', 'last': 'Kim', 'pay': 250000, 'email': 'sook@gmail.com'}\n"
     ]
    }
   ],
   "source": [
    "print(Employee.raise_amt)\n",
    "print(emp_1.raise_amt)\n",
    "print(emp_2.raise_amt)\n",
    "print()\n",
    "\n",
    "print(Employee.__dict__)\n",
    "print(emp_1.__dict__)\n",
    "print(emp_2.__dict__)"
   ]
  },
  {
   "cell_type": "markdown",
   "metadata": {},
   "source": [
    "##### 클래스 메쏘드 ```set_raise_amt```를 이용, 클래스 변수 ```raise_amt ```를 1.05로 바꾸기 "
   ]
  },
  {
   "cell_type": "code",
   "execution_count": 7,
   "metadata": {},
   "outputs": [],
   "source": [
    "Employee.set_raise_amt(1.05)"
   ]
  },
  {
   "cell_type": "code",
   "execution_count": 8,
   "metadata": {},
   "outputs": [
    {
     "name": "stdout",
     "output_type": "stream",
     "text": [
      "1.05\n",
      "1.05\n",
      "1.05\n"
     ]
    }
   ],
   "source": [
    "print(Employee.raise_amt)\n",
    "print(emp_1.raise_amt)\n",
    "print(emp_2.raise_amt)"
   ]
  },
  {
   "cell_type": "markdown",
   "metadata": {},
   "source": [
    "##### 클래스 변수 ```raise_amt```를 이용, 클래스 변수 ```raise_amt ```를 1.06으로 바꾸기  "
   ]
  },
  {
   "cell_type": "code",
   "execution_count": 9,
   "metadata": {},
   "outputs": [],
   "source": [
    "Employee.raise_amt = 1.06"
   ]
  },
  {
   "cell_type": "code",
   "execution_count": 10,
   "metadata": {},
   "outputs": [
    {
     "name": "stdout",
     "output_type": "stream",
     "text": [
      "1.06\n",
      "1.06\n",
      "1.06\n"
     ]
    }
   ],
   "source": [
    "print(Employee.raise_amt)\n",
    "print(emp_1.raise_amt)\n",
    "print(emp_2.raise_amt)"
   ]
  },
  {
   "cell_type": "markdown",
   "metadata": {},
   "source": [
    "##### 스트링 데이타를 이용, 클래스 인스턴스 만들기"
   ]
  },
  {
   "cell_type": "code",
   "execution_count": 14,
   "metadata": {},
   "outputs": [],
   "source": [
    "emp_str_1 = 'John-Doe-John.Doe@gmail.com-70000'\n",
    "emp_str_2 = 'Steve-Smith-Steve.Smith@gmail.com-30000'\n",
    "emp_str_3 = 'Jane-Doe-Jane_Doe@gmail.com-90000'"
   ]
  },
  {
   "cell_type": "code",
   "execution_count": 15,
   "metadata": {},
   "outputs": [
    {
     "name": "stdout",
     "output_type": "stream",
     "text": [
      "['John', 'Doe', 'John.Doe@gmail.com', '70000']\n"
     ]
    }
   ],
   "source": [
    "split_result = emp_str_1.split('-')\n",
    "print(split_result)"
   ]
  },
  {
   "cell_type": "code",
   "execution_count": 16,
   "metadata": {},
   "outputs": [
    {
     "name": "stdout",
     "output_type": "stream",
     "text": [
      "John Doe John.Doe@gmail.com 70000\n",
      "<class 'str'> <class 'str'> <class 'str'> <class 'str'>\n"
     ]
    }
   ],
   "source": [
    "first, last, email, pay = emp_str_1.split('-')\n",
    "print(first, last, email, pay)\n",
    "print(type(first), type(last), type(email), type(pay))"
   ]
  },
  {
   "cell_type": "code",
   "execution_count": 17,
   "metadata": {},
   "outputs": [],
   "source": [
    "first, last, email, pay = emp_str_1.split('-')\n",
    "new_emp_1 = Employee(first, last, email, pay)"
   ]
  },
  {
   "cell_type": "code",
   "execution_count": 18,
   "metadata": {},
   "outputs": [
    {
     "name": "stdout",
     "output_type": "stream",
     "text": [
      "John.Doe@gmail.com\n",
      "70000\n"
     ]
    }
   ],
   "source": [
    "print(new_emp_1.email)\n",
    "print(new_emp_1.pay)"
   ]
  },
  {
   "cell_type": "markdown",
   "metadata": {},
   "source": [
    "##### class method as an alternative constructor "
   ]
  },
  {
   "cell_type": "code",
   "execution_count": 1,
   "metadata": {},
   "outputs": [],
   "source": [
    "class Employee:\n",
    "\n",
    "    num_of_emps = 0\n",
    "    raise_amt = 1.04\n",
    "\n",
    "    def __init__(self, first, last, email, pay):\n",
    "        self.first = first\n",
    "        self.last = last\n",
    "        self.email = email\n",
    "        self.pay = int(pay)\n",
    "\n",
    "        Employee.num_of_emps += 1\n",
    "\n",
    "    def fullname(self):\n",
    "        return '{} {}'.format(self.first, self.last)\n",
    "\n",
    "    def apply_raise(self):\n",
    "        self.pay = int(self.pay * self.raise_amt)\n",
    "     \n",
    "    @classmethod \n",
    "    def set_raise_amt(cls, amount):\n",
    "        cls.raise_amt = amount\n",
    "      \n",
    "    @classmethod \n",
    "    def from_string(cls, emp_str):\n",
    "        first, last, email, pay = emp_str.split('-')\n",
    "        return cls(first, last, email, pay)"
   ]
  },
  {
   "cell_type": "code",
   "execution_count": 2,
   "metadata": {},
   "outputs": [],
   "source": [
    "emp_str_1 = 'John-Doe-John.Doe@gmail.com-70000'\n",
    "emp_str_2 = 'Steve-Smith-Steve.Smith@gmail.com-30000'\n",
    "emp_str_3 = 'Jane-Doe-Jane_Doe@gmail.com-90000'"
   ]
  },
  {
   "cell_type": "code",
   "execution_count": 3,
   "metadata": {},
   "outputs": [],
   "source": [
    "new_emp_1 = Employee.from_string(emp_str_1)"
   ]
  },
  {
   "cell_type": "code",
   "execution_count": 4,
   "metadata": {},
   "outputs": [
    {
     "name": "stdout",
     "output_type": "stream",
     "text": [
      "John.Doe@gmail.com\n",
      "70000\n"
     ]
    }
   ],
   "source": [
    "print(new_emp_1.email)\n",
    "print(new_emp_1.pay)"
   ]
  },
  {
   "cell_type": "code",
   "execution_count": 5,
   "metadata": {},
   "outputs": [
    {
     "name": "stdout",
     "output_type": "stream",
     "text": [
      "72800\n"
     ]
    }
   ],
   "source": [
    "new_emp_1.apply_raise()\n",
    "print(new_emp_1.pay)"
   ]
  },
  {
   "cell_type": "markdown",
   "metadata": {},
   "source": [
    "[<a href=\"#Regular-Methods-(Instance-Methods),-Class-Methods,-and-Static-Methods\">Back to top</a>]"
   ]
  },
  {
   "cell_type": "markdown",
   "metadata": {},
   "source": [
    "# Static Methods"
   ]
  },
  {
   "cell_type": "markdown",
   "metadata": {},
   "source": [
    "##### static method is defined using a decorator ```@staticmethod```\n",
    "\n",
    "스테틱 메쏘드는 첫번째 아규먼트로 ```self```도 들어가지 않고, ```cls```도 들어가지 않아요.\n",
    "일반적인 함수죠.\n",
    "하지만, 논리적으로 클래스와 관련이 있어 클래스를 건설할 때 같이 건설하는 것이죠."
   ]
  },
  {
   "cell_type": "code",
   "execution_count": 1,
   "metadata": {},
   "outputs": [],
   "source": [
    "class Employee:\n",
    "\n",
    "    num_of_emps = 0\n",
    "    raise_amt = 1.04\n",
    "\n",
    "    def __init__(self, first, last, email, pay):\n",
    "        self.first = first\n",
    "        self.last = last\n",
    "        self.email = email\n",
    "        self.pay = int(pay)\n",
    "\n",
    "        Employee.num_of_emps += 1\n",
    "\n",
    "    def fullname(self):\n",
    "        return '{} {}'.format(self.first, self.last)\n",
    "\n",
    "    def apply_raise(self):\n",
    "        self.pay = int(self.pay * self.raise_amt)\n",
    "     \n",
    "    @classmethod \n",
    "    def set_raise_amt(cls, amount):\n",
    "        cls.raise_amt = amount\n",
    "      \n",
    "    @classmethod \n",
    "    def from_string(cls, emp_str):\n",
    "        first, last, email, pay = emp_str.split('-')\n",
    "        return cls(first, last, email, pay)\n",
    "    \n",
    "    @staticmethod \n",
    "    def is_workday(day):\n",
    "        if day.weekday() == 5 or day.weekday() == 6:\n",
    "            return False\n",
    "        else:\n",
    "            return True"
   ]
  },
  {
   "cell_type": "code",
   "execution_count": 2,
   "metadata": {},
   "outputs": [],
   "source": [
    "emp_1 = Employee('Sungchul', 'Lee', 'sungchul@yonsei.ac.kr', 150000)\n",
    "emp_2 = Employee('Sookkyung', 'Kim', 'sook@gmail.com', 250000)\n",
    "emp_3 = Employee('Junhyung', 'Lee', 'jun_lee@gmail.com', 100000)"
   ]
  },
  {
   "cell_type": "code",
   "execution_count": 10,
   "metadata": {},
   "outputs": [
    {
     "name": "stdout",
     "output_type": "stream",
     "text": [
      "2019-04-15\n",
      "<class 'datetime.date'>\n",
      "0\n"
     ]
    }
   ],
   "source": [
    "import datetime\n",
    "my_date = datetime.date(2019, 4, 15)\n",
    "print(my_date)\n",
    "print(type(my_date))\n",
    "print(my_date.weekday()) # 0(M), 1(T), 2(W), 3(R), 4(F), 5(S), 6(S)"
   ]
  },
  {
   "cell_type": "code",
   "execution_count": 11,
   "metadata": {},
   "outputs": [
    {
     "data": {
      "text/plain": [
       "True"
      ]
     },
     "execution_count": 11,
     "metadata": {},
     "output_type": "execute_result"
    }
   ],
   "source": [
    "Employee.is_workday(my_date)"
   ]
  },
  {
   "cell_type": "markdown",
   "metadata": {},
   "source": [
    "[<a href=\"#Regular-Methods-(Instance-Methods),-Class-Methods,-and-Static-Methods\">Back to top</a>]"
   ]
  }
 ],
 "metadata": {
  "kernelspec": {
   "display_name": "Python [default]",
   "language": "python",
   "name": "python3"
  },
  "language_info": {
   "codemirror_mode": {
    "name": "ipython",
    "version": 3
   },
   "file_extension": ".py",
   "mimetype": "text/x-python",
   "name": "python",
   "nbconvert_exporter": "python",
   "pygments_lexer": "ipython3",
   "version": "3.5.0"
  }
 },
 "nbformat": 4,
 "nbformat_minor": 2
}
