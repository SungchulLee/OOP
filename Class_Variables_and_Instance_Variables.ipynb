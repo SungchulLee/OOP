{
 "cells": [
  {
   "cell_type": "markdown",
   "metadata": {},
   "source": [
    "# Class Variables and Instance Variables "
   ]
  },
  {
   "cell_type": "markdown",
   "metadata": {},
   "source": [
    "[Class Variables and Instance Variables by Corey Schafer](https://www.youtube.com/watch?v=BJ-VvGyQxho&index=2&list=PL-osiE80TeTsqhIuOqKhwlXsIBIdSeYtc)"
   ]
  },
  {
   "cell_type": "markdown",
   "metadata": {},
   "source": [
    "<a href=\"#메쏘드이용,-월급-4%올려주기\">메쏘드이용, 월급 4%올려주기</a>\n",
    "\n",
    "<a href=\"#클래스-변수이용,-월급-4%올려주기\">클래스 변수이용, 월급 4%올려주기</a>\n",
    "\n",
    "<a href=\"#클래스-변수값을-부르는-방법\">클래스 변수값을 부르는 방법</a>\n",
    "\n",
    "<a href=\"#클래스-변수값을-바꾸는-방법\">클래스 변수값을 바꾸는 방법</a>\n",
    "\n",
    "<a href=\"#인스턴스-변수이용,-Corey-Schafer는-예외적으로-월급-10%올려주기\">인스턴스 변수이용, Corey Schafer는 예외적으로 월급 10%올려주기</a>\n",
    "\n",
    "<a href=\"#클래스-변수-추가하기\">클래스 변수 추가하기</a>"
   ]
  },
  {
   "cell_type": "code",
   "execution_count": 4,
   "metadata": {},
   "outputs": [
    {
     "name": "stdout",
     "output_type": "stream",
     "text": [
      "[[1. 0.]\n",
      " [0. 1.]]\n",
      "[[1 0]\n",
      " [0 1]]\n",
      "float64\n",
      "int32\n",
      "<class 'numpy.ndarray'>\n",
      "<class 'numpy.ndarray'>\n"
     ]
    }
   ],
   "source": [
    "import numpy as np\n",
    "\n",
    "a = np.eye(2)\n",
    "b = np.eye(2, dtype=np.int32)\n",
    "\n",
    "print(a)\n",
    "print(b)\n",
    "print(a.dtype)\n",
    "print(b.dtype)\n",
    "print(type(a))\n",
    "print(type(b))"
   ]
  },
  {
   "cell_type": "markdown",
   "metadata": {},
   "source": [
    "# 메쏘드이용, 월급 4%올려주기"
   ]
  },
  {
   "cell_type": "markdown",
   "metadata": {},
   "source": [
    "아래 코드가 작동은 하는데, 유지보수가 어려워요.\n",
    "예를 들어 다음에는 월급을 5% 올려준다고 하면,\n",
    "관련된 코드 부분 \n",
    "```\n",
    "def apply_raise(self):\n",
    "        self.pay = int(self.pay * 1.04)\n",
    "```\n",
    "을 찾아서 숫자를 바꾸어야 합니다.\n",
    "```\n",
    "def apply_raise(self):\n",
    "        self.pay = int(self.pay * 1.05)\n",
    "```"
   ]
  },
  {
   "cell_type": "code",
   "execution_count": 1,
   "metadata": {},
   "outputs": [],
   "source": [
    "class Employee:\n",
    "\n",
    "    def __init__(self, first, last, email, pay):\n",
    "        self.first = first\n",
    "        self.last = last\n",
    "        self.email = email\n",
    "        self.pay = pay\n",
    "\n",
    "    def fullname(self):\n",
    "        return '{} {}'.format(self.first, self.last)\n",
    "        \n",
    "    def apply_raise(self):\n",
    "        self.pay = int(self.pay * 1.04)"
   ]
  },
  {
   "cell_type": "code",
   "execution_count": 4,
   "metadata": {},
   "outputs": [
    {
     "name": "stdout",
     "output_type": "stream",
     "text": [
      "150000\n"
     ]
    }
   ],
   "source": [
    "emp_1 = Employee('Sungchul', 'Lee', 'sungchul@yonsei.ac.kr', 150000)\n",
    "print(emp_1.pay)"
   ]
  },
  {
   "cell_type": "code",
   "execution_count": 5,
   "metadata": {},
   "outputs": [
    {
     "name": "stdout",
     "output_type": "stream",
     "text": [
      "250000\n"
     ]
    }
   ],
   "source": [
    "emp_2 = Employee('Sookkyung', 'Kim', 'sook@gmail.com', 250000)\n",
    "print(emp_2.pay)"
   ]
  },
  {
   "cell_type": "code",
   "execution_count": 6,
   "metadata": {},
   "outputs": [
    {
     "name": "stdout",
     "output_type": "stream",
     "text": [
      "156000\n"
     ]
    }
   ],
   "source": [
    "emp_1.apply_raise()\n",
    "print(emp_1.pay)"
   ]
  },
  {
   "cell_type": "code",
   "execution_count": 7,
   "metadata": {},
   "outputs": [
    {
     "name": "stdout",
     "output_type": "stream",
     "text": [
      "260000\n"
     ]
    }
   ],
   "source": [
    "emp_2.apply_raise()\n",
    "print(emp_2.pay)"
   ]
  },
  {
   "cell_type": "markdown",
   "metadata": {},
   "source": [
    "[<a href=\"#Class-Variables-and-Instance-Variables\">Back to top</a>]"
   ]
  },
  {
   "cell_type": "markdown",
   "metadata": {},
   "source": [
    "# 클래스 변수이용, 월급 4%올려주기"
   ]
  },
  {
   "cell_type": "markdown",
   "metadata": {},
   "source": [
    "아래 코드에서는 클래스 변수 ```raise_amt```를 추가로 도입하여 월급을 얼마나 올리는지를 기록하도록 했어요.\n",
    "```\n",
    "class Employee:\n",
    "\n",
    "    # 클래스 변수\n",
    "    raise_amt = 1.04\n",
    "    \n",
    "    ...\n",
    "        \n",
    "    def apply_raise(self):\n",
    "        # self.pay = int(self.pay * Employee.raise_amt) # both lines are same\n",
    "        self.pay = int(self.pay * self.raise_amt)       # both lines are same\n",
    "```\n",
    "유지보수가 쉽겠죠.\n",
    "예를 들어 다음에는 월급을 5% 올려준다고 하면,\n",
    "관련된 코드 부분을 찾아서 숫자를 바꿀 필요가 없어요.\n",
    "클래스 변수 ```raise_amt```의 수치를 바꾸면 됩니다.\n",
    "```\n",
    "Employee.raise_amt = 1.05\n",
    "```"
   ]
  },
  {
   "cell_type": "code",
   "execution_count": 8,
   "metadata": {},
   "outputs": [],
   "source": [
    "class Employee:\n",
    "\n",
    "    # 클래스 변수\n",
    "    raise_amt = 1.04\n",
    "\n",
    "    def __init__(self, first, last, email, pay):\n",
    "        self.first = first\n",
    "        self.last = last\n",
    "        self.email = email\n",
    "        self.pay = pay\n",
    "\n",
    "    def fullname(self):\n",
    "        return '{} {}'.format(self.first, self.last)\n",
    "        \n",
    "    def apply_raise(self):\n",
    "        # old code\n",
    "        # self.pay = int(self.pay * 1.04)\n",
    "        \n",
    "        # self.pay = int(self.pay * raise_amt)  # 뻑나요\n",
    "        # self.pay = int(self.pay * Employee.raise_amt) # both lines are same  \n",
    "        self.pay = int(self.pay * self.raise_amt)       # both lines are same             "
   ]
  },
  {
   "cell_type": "code",
   "execution_count": 9,
   "metadata": {},
   "outputs": [
    {
     "name": "stdout",
     "output_type": "stream",
     "text": [
      "150000\n"
     ]
    }
   ],
   "source": [
    "emp_1 = Employee('Sungchul', 'Lee', 'sungchul@yonsei.ac.kr', 150000)\n",
    "print(emp_1.pay)"
   ]
  },
  {
   "cell_type": "code",
   "execution_count": 10,
   "metadata": {},
   "outputs": [
    {
     "name": "stdout",
     "output_type": "stream",
     "text": [
      "250000\n"
     ]
    }
   ],
   "source": [
    "emp_2 = Employee('Sookkyung', 'Kim', 'sook@gmail.com', 250000)\n",
    "print(emp_2.pay)"
   ]
  },
  {
   "cell_type": "code",
   "execution_count": 11,
   "metadata": {},
   "outputs": [
    {
     "name": "stdout",
     "output_type": "stream",
     "text": [
      "156000\n"
     ]
    }
   ],
   "source": [
    "emp_1.apply_raise()\n",
    "print(emp_1.pay)"
   ]
  },
  {
   "cell_type": "code",
   "execution_count": 12,
   "metadata": {},
   "outputs": [
    {
     "name": "stdout",
     "output_type": "stream",
     "text": [
      "260000\n"
     ]
    }
   ],
   "source": [
    "emp_2.apply_raise()\n",
    "print(emp_2.pay)"
   ]
  },
  {
   "cell_type": "markdown",
   "metadata": {},
   "source": [
    "[<a href=\"#Class-Variables-and-Instance-Variables\">Back to top</a>]"
   ]
  },
  {
   "cell_type": "markdown",
   "metadata": {},
   "source": [
    "# 클래스 변수값을 부르는 방법"
   ]
  },
  {
   "cell_type": "code",
   "execution_count": 13,
   "metadata": {},
   "outputs": [
    {
     "name": "stdout",
     "output_type": "stream",
     "text": [
      "1.04\n"
     ]
    }
   ],
   "source": [
    "print(Employee.raise_amt)"
   ]
  },
  {
   "cell_type": "code",
   "execution_count": 14,
   "metadata": {},
   "outputs": [
    {
     "name": "stdout",
     "output_type": "stream",
     "text": [
      "1.04\n"
     ]
    }
   ],
   "source": [
    "print(emp_1.raise_amt)"
   ]
  },
  {
   "cell_type": "code",
   "execution_count": 15,
   "metadata": {},
   "outputs": [
    {
     "name": "stdout",
     "output_type": "stream",
     "text": [
      "{'__weakref__': <attribute '__weakref__' of 'Employee' objects>, '__dict__': <attribute '__dict__' of 'Employee' objects>, 'apply_raise': <function Employee.apply_raise at 0x1131d5158>, 'raise_amt': 1.04, '__init__': <function Employee.__init__ at 0x1131d5b70>, '__doc__': None, 'fullname': <function Employee.fullname at 0x1131d59d8>, '__module__': '__main__'}\n"
     ]
    }
   ],
   "source": [
    "print(Employee.__dict__)"
   ]
  },
  {
   "cell_type": "code",
   "execution_count": 16,
   "metadata": {},
   "outputs": [
    {
     "name": "stdout",
     "output_type": "stream",
     "text": [
      "{'email': 'sungchul@yonsei.ac.kr', 'pay': 156000, 'first': 'Sungchul', 'last': 'Lee'}\n"
     ]
    }
   ],
   "source": [
    "print(emp_1.__dict__)"
   ]
  },
  {
   "cell_type": "markdown",
   "metadata": {},
   "source": [
    "[<a href=\"#Class-Variables-and-Instance-Variables\">Back to top</a>]"
   ]
  },
  {
   "cell_type": "markdown",
   "metadata": {},
   "source": [
    "# 클래스 변수값을 바꾸는 방법"
   ]
  },
  {
   "cell_type": "code",
   "execution_count": 17,
   "metadata": {},
   "outputs": [
    {
     "name": "stdout",
     "output_type": "stream",
     "text": [
      "1.05\n"
     ]
    }
   ],
   "source": [
    "Employee.raise_amt = 1.05\n",
    "print(Employee.raise_amt)"
   ]
  },
  {
   "cell_type": "code",
   "execution_count": 18,
   "metadata": {},
   "outputs": [
    {
     "name": "stdout",
     "output_type": "stream",
     "text": [
      "1.05\n"
     ]
    }
   ],
   "source": [
    "print(emp_1.raise_amt)"
   ]
  },
  {
   "cell_type": "code",
   "execution_count": 19,
   "metadata": {},
   "outputs": [
    {
     "name": "stdout",
     "output_type": "stream",
     "text": [
      "{'__weakref__': <attribute '__weakref__' of 'Employee' objects>, '__dict__': <attribute '__dict__' of 'Employee' objects>, 'apply_raise': <function Employee.apply_raise at 0x1131d5158>, 'raise_amt': 1.05, '__init__': <function Employee.__init__ at 0x1131d5b70>, '__doc__': None, 'fullname': <function Employee.fullname at 0x1131d59d8>, '__module__': '__main__'}\n"
     ]
    }
   ],
   "source": [
    "print(Employee.__dict__)"
   ]
  },
  {
   "cell_type": "code",
   "execution_count": 20,
   "metadata": {},
   "outputs": [
    {
     "name": "stdout",
     "output_type": "stream",
     "text": [
      "{'email': 'sungchul@yonsei.ac.kr', 'pay': 156000, 'first': 'Sungchul', 'last': 'Lee'}\n"
     ]
    }
   ],
   "source": [
    "print(emp_1.__dict__)"
   ]
  },
  {
   "cell_type": "markdown",
   "metadata": {},
   "source": [
    "[<a href=\"#Class-Variables-and-Instance-Variables\">Back to top</a>]"
   ]
  },
  {
   "cell_type": "markdown",
   "metadata": {},
   "source": [
    "# 인스턴스 변수이용, Sungchul Lee는 예외적으로 월급 10%올려주기 "
   ]
  },
  {
   "cell_type": "code",
   "execution_count": 21,
   "metadata": {},
   "outputs": [],
   "source": [
    "emp_1.raise_amt = 1.10"
   ]
  },
  {
   "cell_type": "code",
   "execution_count": 22,
   "metadata": {},
   "outputs": [
    {
     "name": "stdout",
     "output_type": "stream",
     "text": [
      "1.05\n"
     ]
    }
   ],
   "source": [
    "print(Employee.raise_amt)"
   ]
  },
  {
   "cell_type": "code",
   "execution_count": 23,
   "metadata": {},
   "outputs": [
    {
     "name": "stdout",
     "output_type": "stream",
     "text": [
      "1.1\n"
     ]
    }
   ],
   "source": [
    "print(emp_1.raise_amt)"
   ]
  },
  {
   "cell_type": "code",
   "execution_count": 24,
   "metadata": {},
   "outputs": [
    {
     "name": "stdout",
     "output_type": "stream",
     "text": [
      "{'__weakref__': <attribute '__weakref__' of 'Employee' objects>, '__dict__': <attribute '__dict__' of 'Employee' objects>, 'apply_raise': <function Employee.apply_raise at 0x1131d5158>, 'raise_amt': 1.05, '__init__': <function Employee.__init__ at 0x1131d5b70>, '__doc__': None, 'fullname': <function Employee.fullname at 0x1131d59d8>, '__module__': '__main__'}\n"
     ]
    }
   ],
   "source": [
    "print(Employee.__dict__)"
   ]
  },
  {
   "cell_type": "code",
   "execution_count": 25,
   "metadata": {},
   "outputs": [
    {
     "name": "stdout",
     "output_type": "stream",
     "text": [
      "{'email': 'sungchul@yonsei.ac.kr', 'raise_amt': 1.1, 'pay': 156000, 'first': 'Sungchul', 'last': 'Lee'}\n"
     ]
    }
   ],
   "source": [
    "print(emp_1.__dict__)"
   ]
  },
  {
   "cell_type": "code",
   "execution_count": 27,
   "metadata": {},
   "outputs": [
    {
     "name": "stdout",
     "output_type": "stream",
     "text": [
      "{'email': 'sook@gmail.com', 'pay': 260000, 'first': 'Sookkyung', 'last': 'Kim'}\n",
      "1.05\n"
     ]
    }
   ],
   "source": [
    "print(emp_2.__dict__)\n",
    "print(emp_2.raise_amt)"
   ]
  },
  {
   "cell_type": "code",
   "execution_count": 28,
   "metadata": {},
   "outputs": [
    {
     "name": "stdout",
     "output_type": "stream",
     "text": [
      "156000\n",
      "171600\n"
     ]
    }
   ],
   "source": [
    "print(emp_1.pay)\n",
    "emp_1.apply_raise()\n",
    "print(emp_1.pay)"
   ]
  },
  {
   "cell_type": "code",
   "execution_count": 29,
   "metadata": {},
   "outputs": [
    {
     "name": "stdout",
     "output_type": "stream",
     "text": [
      "260000\n",
      "273000\n"
     ]
    }
   ],
   "source": [
    "print(emp_2.pay)\n",
    "emp_2.apply_raise()\n",
    "print(emp_2.pay)"
   ]
  },
  {
   "cell_type": "markdown",
   "metadata": {},
   "source": [
    "[<a href=\"#Class-Variables-and-Instance-Variables\">Back to top</a>]"
   ]
  },
  {
   "cell_type": "markdown",
   "metadata": {},
   "source": [
    "# 클래스 변수 추가하기"
   ]
  },
  {
   "cell_type": "markdown",
   "metadata": {},
   "source": [
    "직원 수를 기록하는 클래스 변수 ```num_of_emps```를 추가해 보죠."
   ]
  },
  {
   "cell_type": "code",
   "execution_count": 1,
   "metadata": {},
   "outputs": [],
   "source": [
    "class Employee:\n",
    "\n",
    "    # 클라스 변수\n",
    "    num_of_emps = 0\n",
    "    raise_amt = 1.04\n",
    "\n",
    "    def __init__(self, first, last, email, pay):\n",
    "        self.first = first\n",
    "        self.last = last\n",
    "        self.email = email\n",
    "        self.pay = pay\n",
    "        \n",
    "        # num_of_emps += 1 # <--- UnboundLocalError: local variable 'num_of_emps' referenced before assignment\n",
    "        Employee.num_of_emps += 1 # \n",
    "        # self.num_of_emps += 1   # not working\n",
    "\n",
    "    def fullname(self):\n",
    "        return '{} {}'.format(self.first, self.last)\n",
    "        \n",
    "    def apply_raise(self):\n",
    "        self.pay = int(self.pay * self.raise_amt) "
   ]
  },
  {
   "cell_type": "code",
   "execution_count": 2,
   "metadata": {},
   "outputs": [
    {
     "name": "stdout",
     "output_type": "stream",
     "text": [
      "0\n"
     ]
    }
   ],
   "source": [
    "print(Employee.num_of_emps)"
   ]
  },
  {
   "cell_type": "code",
   "execution_count": 3,
   "metadata": {},
   "outputs": [
    {
     "name": "stdout",
     "output_type": "stream",
     "text": [
      "1\n",
      "1\n",
      "{'first': 'Sungchul', 'email': 'sungchul@yonsei.ac.kr', 'pay': 150000, 'last': 'Lee'}\n"
     ]
    }
   ],
   "source": [
    "emp_1 = Employee('Sungchul', 'Lee', 'sungchul@yonsei.ac.kr', 150000)\n",
    "print(Employee.num_of_emps) # 1\n",
    "print(emp_1.num_of_emps) # 1\n",
    "print(emp_1.__dict__)"
   ]
  },
  {
   "cell_type": "code",
   "execution_count": 4,
   "metadata": {},
   "outputs": [
    {
     "name": "stdout",
     "output_type": "stream",
     "text": [
      "2\n",
      "2\n",
      "{'first': 'Sookkyung', 'email': 'sook@gmail.com', 'pay': 250000, 'last': 'Kim'}\n"
     ]
    }
   ],
   "source": [
    "emp_2 = Employee('Sookkyung', 'Kim', 'sook@gmail.com', 250000)\n",
    "print(Employee.num_of_emps) # 2\n",
    "print(emp_2.num_of_emps) # 2\n",
    "print(emp_2.__dict__)"
   ]
  },
  {
   "cell_type": "code",
   "execution_count": 5,
   "metadata": {},
   "outputs": [
    {
     "name": "stdout",
     "output_type": "stream",
     "text": [
      "3\n",
      "3\n",
      "{'first': 'Junhyung', 'email': 'junlee@gmail.com', 'last': 'Lee', 'pay': 100000}\n"
     ]
    }
   ],
   "source": [
    "emp_3 = Employee('Junhyung', 'Lee', 'jun_lee@gmail.com', 100000)\n",
    "print(Employee.num_of_emps) # 3\n",
    "print(emp_3.num_of_emps) # 3\n",
    "print(emp_3.__dict__)"
   ]
  },
  {
   "cell_type": "markdown",
   "metadata": {},
   "source": [
    "[<a href=\"#Class-Variables-and-Instance-Variables\">Back to top</a>]"
   ]
  }
 ],
 "metadata": {
  "kernelspec": {
   "display_name": "Python [default]",
   "language": "python",
   "name": "python3"
  },
  "language_info": {
   "codemirror_mode": {
    "name": "ipython",
    "version": 3
   },
   "file_extension": ".py",
   "mimetype": "text/x-python",
   "name": "python",
   "nbconvert_exporter": "python",
   "pygments_lexer": "ipython3",
   "version": "3.5.0"
  }
 },
 "nbformat": 4,
 "nbformat_minor": 2
}
